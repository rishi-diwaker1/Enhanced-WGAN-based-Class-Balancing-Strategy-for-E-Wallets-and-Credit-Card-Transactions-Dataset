{
 "cells": [
  {
   "cell_type": "code",
   "execution_count": 1,
   "metadata": {},
   "outputs": [
    {
     "name": "stderr",
     "output_type": "stream",
     "text": [
      "/home/girishkk/.local/lib/python3.6/site-packages/tqdm/auto.py:22: TqdmWarning: IProgress not found. Please update jupyter and ipywidgets. See https://ipywidgets.readthedocs.io/en/stable/user_install.html\n",
      "  from .autonotebook import tqdm as notebook_tqdm\n"
     ]
    }
   ],
   "source": [
    "import pandas as pd\n",
    "import torch\n",
    "import numpy as np\n",
    "from sklearn import preprocessing\n",
    "import matplotlib.pyplot as plt\n",
    "import torch.nn as nn\n",
    "import torch.optim as optim"
   ]
  },
  {
   "cell_type": "code",
   "execution_count": 2,
   "metadata": {},
   "outputs": [],
   "source": [
    "# Step 1: Data Preprocessing and Label Encoding\n",
    "def df_label_encoder(df, columns):\n",
    "    le = preprocessing.LabelEncoder()\n",
    "    for col in columns:\n",
    "        df[col] = le.fit_transform(df[col].astype(str))\n",
    "    return df"
   ]
  },
  {
   "cell_type": "code",
   "execution_count": 3,
   "metadata": {},
   "outputs": [],
   "source": [
    "# Preprocess the dataset and extract features for node creation\n",
    "def preprocess(df):\n",
    "    df = df_label_encoder(df, ['merchant', 'category', 'city', 'state', 'job'])\n",
    "    df['amt'] = (df['amt'] - df['amt'].min()) / (df['amt'].max() - df['amt'].min())\n",
    "    df['node_from'] = df['cc_num'].astype(str)\n",
    "    df['node_to'] = df['merchant'].astype(str)\n",
    "    df = df.sort_values(by=['node_from'])\n",
    "    node_list = pd.concat([df['node_from'], df['node_to']]).unique()\n",
    "    return df, node_list"
   ]
  },
  {
   "cell_type": "code",
   "execution_count": 4,
   "metadata": {},
   "outputs": [],
   "source": [
    "def create_graph_data(df, node_list):\n",
    "    # Create a mapping of node names to indices\n",
    "    node_map = {node: idx for idx, node in enumerate(node_list)}\n",
    "    \n",
    "    # Convert edges to indices\n",
    "    edge_index = np.array([\n",
    "        [node_map[from_node], node_map[to_node]] for from_node, to_node in zip(df['node_from'], df['node_to'])\n",
    "    ], dtype=np.int64).T  # Transpose to get the shape [2, num_edges]\n",
    "\n",
    "    # Node features (converted to numpy array or tensor)\n",
    "    node_features = torch.tensor(df[['amt', 'category', 'city', 'state']].values, dtype=torch.float32)\n",
    "\n",
    "    # Labels (0 for non-fraud, 1 for fraud)\n",
    "    labels = torch.tensor(df['is_fraud'].values, dtype=torch.long)\n",
    "\n",
    "    return node_features, edge_index, labels, node_map\n"
   ]
  },
  {
   "cell_type": "code",
   "execution_count": 5,
   "metadata": {},
   "outputs": [],
   "source": [
    "# Load dataset and preprocess\n",
    "df = pd.read_csv('creditcard/fraudTrain.csv')  # Update with your .csv file path\n",
    "df, node_list = preprocess(df)"
   ]
  },
  {
   "cell_type": "code",
   "execution_count": 6,
   "metadata": {},
   "outputs": [],
   "source": [
    "node_features, edge_index, labels, node_map = create_graph_data(df, node_list)"
   ]
  },
  {
   "cell_type": "code",
   "execution_count": 7,
   "metadata": {},
   "outputs": [],
   "source": [
    "# Plot class distribution\n",
    "def plot_class_distribution(y_data, title):\n",
    "    classes, counts = torch.unique(y_data, return_counts=True)\n",
    "    plt.bar(classes.numpy(), counts.numpy())\n",
    "    plt.title(title)\n",
    "    plt.xticks([0, 1], ['Non-Fraud', 'Fraud'])\n",
    "    plt.show()"
   ]
  },
  {
   "cell_type": "code",
   "execution_count": 8,
   "metadata": {},
   "outputs": [
    {
     "data": {
      "image/png": "[encoded data removed]",
      "text/plain": [
       "<Figure size 432x288 with 1 Axes>"
      ]
     },
     "metadata": {
      "needs_background": "light"
     },
     "output_type": "display_data"
    }
   ],
   "source": [
    "plot_class_distribution(labels, \"Class Distribution Before Augmentation\")"
   ]
  },
  {
   "cell_type": "code",
   "execution_count": 9,
   "metadata": {},
   "outputs": [],
   "source": [
    "def build_adjacency_matrix(edge_index, num_nodes):\n",
    "    # Use a sparse tensor if the graph is large\n",
    "    adj = torch.zeros((num_nodes, num_nodes), dtype=torch.float32)  # For unweighted edges\n",
    "\n",
    "    # Efficiently assign edges\n",
    "    row_indices = edge_index[0].long()  # Ensure indices are of type long\n",
    "    col_indices = edge_index[1].long()\n",
    "    \n",
    "    adj[row_indices, col_indices] = 1  # Set values to 1 for edges\n",
    "\n",
    "    return adj"
   ]
  },
  {
   "cell_type": "code",
   "execution_count": 10,
   "metadata": {},
   "outputs": [],
   "source": [
    "def normalize_adj(adj):\n",
    "    degree = torch.sum(adj, dim=1)  # Compute degree (sum of rows)\n",
    "    degree_inv_sqrt = torch.diag(torch.pow(degree, -0.5))\n",
    "    adj_normalized = degree_inv_sqrt @ adj @ degree_inv_sqrt  # Symmetric normalization\n",
    "    return adj_normalized"
   ]
  },
  {
   "cell_type": "code",
   "execution_count": 11,
   "metadata": {},
   "outputs": [],
   "source": [
    "# Implement GCN layer manually\n",
    "class SimpleGCNLayer(nn.Module):\n",
    "    def __init__(self, input_size, output_size):\n",
    "        super(SimpleGCNLayer, self).__init__()\n",
    "        self.fc = nn.Linear(input_size, output_size)\n",
    "    \n",
    "    def forward(self, x, adj):\n",
    "        x = torch.relu(self.fc(adj @ x))  # Graph convolution using dense adjacency matrix\n",
    "        return x"
   ]
  },
  {
   "cell_type": "code",
   "execution_count": 12,
   "metadata": {},
   "outputs": [],
   "source": [
    "class GCNLayer(nn.Module):\n",
    "    def __init__(self, in_features, out_features):\n",
    "        super(GCNLayer, self).__init__()\n",
    "        self.fc = nn.Linear(in_features, out_features)\n",
    "\n",
    "    def forward(self, x, adj):\n",
    "        # Graph convolution: x' = ReLU(Adjacency_matrix * x * Weights)\n",
    "        x = torch.matmul(adj, x)  # Multiply adjacency matrix by input feature matrix\n",
    "        x = self.fc(x)  # Apply the linear transformation (weights)\n",
    "        return torch.relu(x)  # Apply ReLU activation"
   ]
  },
  {
   "cell_type": "code",
   "execution_count": 13,
   "metadata": {},
   "outputs": [],
   "source": [
    "class WGANGeneratorWithManualGCN(nn.Module):\n",
    "    def __init__(self, latent_size, hidden_size, output_size, num_nodes, adj):\n",
    "        super(WGANGeneratorWithManualGCN, self).__init__()\n",
    "        self.latent_size = latent_size\n",
    "        self.fc1 = nn.Linear(latent_size, hidden_size)\n",
    "        self.gcn1 = GCNLayer(hidden_size, hidden_size)  # GCN Layer 1\n",
    "        self.gcn2 = GCNLayer(hidden_size, hidden_size)  # GCN Layer 2\n",
    "        self.fc2 = nn.Linear(hidden_size, output_size)\n",
    "        self.adj = adj  # Store adjacency matrix (should be in the correct format)\n",
    "        self.num_nodes = num_nodes  # Total number of nodes in the graph\n",
    "\n",
    "    def forward(self, z):\n",
    "        # Pass through the first fully connected layer\n",
    "        z = torch.relu(self.fc1(z))\n",
    "        \n",
    "        # Create sparse adjacency matrix\n",
    "        adj = self.build_sparse_adjacency_matrix(self.adj, self.num_nodes)\n",
    "        adj = self.normalize_sparse_adj(adj)  # Normalize the adjacency matrix\n",
    "        z = z[:self.num_nodes]  # Adjust size of z to match the number of nodes\n",
    "        \n",
    "        # Pass through GCN layers\n",
    "        z = self.gcn1(z, adj)  # Graph convolution using the expanded adjacency matrix\n",
    "        z = self.gcn2(z, adj)\n",
    "        \n",
    "        # Final output layer\n",
    "        return self.fc2(z)\n",
    "\n",
    "    def build_sparse_adjacency_matrix(self, edge_index):\n",
    "        # Ensure edge_index is a LongTensor with shape (2, num_edges)\n",
    "        if isinstance(edge_index, torch.Tensor):\n",
    "            edge_index = edge_index.long()  # Ensure it's a LongTensor\n",
    "        else:\n",
    "            edge_index = torch.tensor(edge_index, dtype=torch.long)\n",
    "\n",
    "        # Transpose edge_index to shape (2, num_edges)\n",
    "        indices = edge_index.t()  # Transpose to get the right shape\n",
    "\n",
    "        # Values should be 1s for unweighted edges\n",
    "        values = torch.ones(indices.shape[1], dtype=torch.float32)  # Values match number of edges\n",
    "\n",
    "        # Create the sparse adjacency matrix\n",
    "        adj_sparse = torch.sparse_coo_tensor(indices, values, (self.num_nodes, self.num_nodes))\n",
    "        return adj_sparse\n",
    "\n",
    "    def normalize_sparse_adj(self, adj):\n",
    "        # Compute degree matrix\n",
    "        degree = torch.sparse.sum(adj, dim=1).to_dense()\n",
    "        degree_inv_sqrt = torch.pow(degree, -0.5)\n",
    "        degree_inv_sqrt[torch.isinf(degree_inv_sqrt)] = 0  # Avoid division by zero\n",
    "\n",
    "        # Apply normalization: D^(-1/2) * A * D^(-1/2)\n",
    "        adj_normalized = adj.coalesce()  # Ensures indices are sorted, necessary for sparse tensor operations\n",
    "        adj_normalized = adj_normalized * degree_inv_sqrt.unsqueeze(0) * degree_inv_sqrt.unsqueeze(1)\n",
    "        return adj_normalized"
   ]
  },
  {
   "cell_type": "code",
   "execution_count": 14,
   "metadata": {},
   "outputs": [],
   "source": [
    "class WGANDiscriminator(nn.Module):\n",
    "    def __init__(self, input_size, hidden_size):\n",
    "        super(WGANDiscriminator, self).__init__()\n",
    "        self.fc1 = nn.Linear(input_size, hidden_size)\n",
    "        self.fc2 = nn.Linear(hidden_size, 1)\n",
    "        self.leaky_relu = nn.LeakyReLU(0.2)  # LeakyReLU for better gradient flow\n",
    "\n",
    "    def forward(self, x):\n",
    "        x = self.leaky_relu(self.fc1(x))\n",
    "        return self.fc2(x)  # No activation, return raw score"
   ]
  },
  {
   "cell_type": "code",
   "execution_count": 15,
   "metadata": {},
   "outputs": [],
   "source": [
    "# WGAN training\n",
    "def train_wgan(generator, discriminator, num_epochs, data_loader, d_optimizer, g_optimizer, z_dim, device):\n",
    "    for epoch in range(num_epochs):\n",
    "        for i, data in enumerate(data_loader):\n",
    "            real_data = data.to(device)\n",
    "\n",
    "            # Train Discriminator\n",
    "            d_optimizer.zero_grad()\n",
    "            z = torch.randn(real_data.size(0), z_dim).to(device)  # Latent vector\n",
    "            fake_data = generator(z).detach()  # Generate fake data and detach\n",
    "            real_loss = discriminator(real_data).mean()\n",
    "            fake_loss = discriminator(fake_data).mean()\n",
    "            d_loss = fake_loss - real_loss\n",
    "            d_loss.backward()\n",
    "            d_optimizer.step()\n",
    "\n",
    "            # Train Generator\n",
    "            g_optimizer.zero_grad()\n",
    "            fake_data = generator(z)  # Generate fake data\n",
    "            g_loss = -discriminator(fake_data).mean()  # Generator loss\n",
    "            g_loss.backward()\n",
    "            g_optimizer.step()\n",
    "\n",
    "            # Logging\n",
    "            if (i + 1) % 100 == 0:\n",
    "                print(f\"Epoch [{epoch + 1}/{num_epochs}], Step [{i + 1}/{len(data_loader)}], D Loss: {d_loss.item()}, G Loss: {g_loss.item()}\")"
   ]
  },
  {
   "cell_type": "code",
   "execution_count": null,
   "metadata": {},
   "outputs": [],
   "source": [
    "latent_size = 64  # Latent space dimension\n",
    "hidden_size = 64   # Hidden layer size\n",
    "output_size = node_features.size(1)  # Output size matches the input feature size\n",
    "num_nodes = node_features.size(0)  # Number of nodes in the graph\n",
    "adj_matrix = build_adjacency_matrix(edge_index, num_nodes)  # Create the adjacency matrix"
   ]
  },
  {
   "cell_type": "code",
   "execution_count": null,
   "metadata": {},
   "outputs": [],
   "source": [
    "device = torch.device('cuda' if torch.cuda.is_available() else 'cpu')\n",
    "generator = WGANGeneratorWithManualGCN(latent_size, hidden_size, output_size, num_nodes, adj_matrix).to(device)\n",
    "discriminator = WGANDiscriminator(output_size, hidden_size).to(device)"
   ]
  },
  {
   "cell_type": "code",
   "execution_count": null,
   "metadata": {},
   "outputs": [],
   "source": [
    "# Optimizers\n",
    "d_optimizer = optim.RMSprop(discriminator.parameters(), lr=0.00005)\n",
    "g_optimizer = optim.RMSprop(generator.parameters(), lr=0.00005)"
   ]
  },
  {
   "cell_type": "code",
   "execution_count": null,
   "metadata": {},
   "outputs": [],
   "source": [
    "# Data Loader\n",
    "batch_size = 32\n",
    "data_loader = torch.utils.data.DataLoader(node_features, batch_size=batch_size, shuffle=True)"
   ]
  },
  {
   "cell_type": "code",
   "execution_count": null,
   "metadata": {},
   "outputs": [],
   "source": [
    "# Train the WGAN\n",
    "train_wgan(generator, discriminator, num_epochs=50, data_loader=data_loader, d_optimizer=d_optimizer, g_optimizer=g_optimizer, z_dim=latent_size, device=device)"
   ]
  },
  {
   "cell_type": "code",
   "execution_count": null,
   "metadata": {},
   "outputs": [],
   "source": [
    "# Generate synthetic data\n",
    "num_samples = 1000\n",
    "z = torch.randn(num_samples, latent_size).to(device)\n",
    "synthetic_data = generator(z).cpu().detach().numpy()"
   ]
  },
  {
   "cell_type": "code",
   "execution_count": null,
   "metadata": {},
   "outputs": [],
   "source": [
    "# Convert to DataFrame for analysis\n",
    "synthetic_df = pd.DataFrame(synthetic_data, columns=df.columns[:-1])  # Adjust columns if necessary\n",
    "synthetic_df['is_fraud'] = 1  # Set all synthetic data as fraud for analysis"
   ]
  },
  {
   "cell_type": "code",
   "execution_count": null,
   "metadata": {},
   "outputs": [],
   "source": [
    "# Plot synthetic data distribution\n",
    "plot_class_distribution(torch.tensor(synthetic_df['is_fraud'].values), \"Class Distribution of Synthetic Data\")"
   ]
  },
  {
   "cell_type": "code",
   "execution_count": null,
   "metadata": {},
   "outputs": [],
   "source": []
  }
 ],
 "metadata": {
  "kernelspec": {
   "display_name": "Python3",
   "language": "python",
   "name": "python3"
  },
  "language_info": {
   "codemirror_mode": {
    "name": "ipython",
    "version": 3
   },
   "file_extension": ".py",
   "mimetype": "text/x-python",
   "name": "python",
   "nbconvert_exporter": "python",
   "pygments_lexer": "ipython3",
   "version": "3.6.9"
  }
 },
 "nbformat": 4,
 "nbformat_minor": 2
}
