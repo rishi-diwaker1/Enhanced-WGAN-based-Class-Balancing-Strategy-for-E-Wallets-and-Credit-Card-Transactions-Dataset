{
 "cells": [
  {
   "cell_type": "code",
   "execution_count": 1,
   "metadata": {},
   "outputs": [],
   "source": [
    "import pandas as pd\n",
    "from sklearn import preprocessing\n",
    "import tensorflow as tf"
   ]
  },
  {
   "cell_type": "code",
   "execution_count": 2,
   "metadata": {},
   "outputs": [],
   "source": [
    "# Load your dataset\n",
    "df = pd.read_csv('paysim/paysim.csv')  # replace with actual file path"
   ]
  },
  {
   "cell_type": "code",
   "execution_count": 3,
   "metadata": {},
   "outputs": [],
   "source": [
    "# Label Encoding Function\n",
    "def df_label_encoder(df, columns):\n",
    "    le = preprocessing.LabelEncoder()\n",
    "    for col in columns:\n",
    "        df[col] = le.fit_transform(df[col].astype(str))\n",
    "    return df"
   ]
  },
  {
   "cell_type": "code",
   "execution_count": 4,
   "metadata": {},
   "outputs": [],
   "source": [
    "def preprocess(df):\n",
    "    # List of columns to label encode\n",
    "    label_columns = ['type', 'nameOrig', 'nameDest']\n",
    "\n",
    "    # Perform label encoding on categorical columns\n",
    "    df = df_label_encoder(df, label_columns)\n",
    "\n",
    "    # Now return the processed dataframe\n",
    "    return df"
   ]
  },
  {
   "cell_type": "code",
   "execution_count": 5,
   "metadata": {},
   "outputs": [],
   "source": [
    "# Node Embedding Functions\n",
    "def transaction_aggregate(df):\n",
    "    # Create a dataframe of unique accounts\n",
    "    accounts = pd.DataFrame()\n",
    "\n",
    "    # Concatenate nameOrig and nameDest to get all unique account names\n",
    "    accounts['Account'] = pd.concat([df['nameOrig'], df['nameDest']]).unique()\n",
    "\n",
    "    # Example: Average transaction amount and balances for each account (origin)\n",
    "    temp_orig = df.groupby('nameOrig').agg({\n",
    "        'amount': 'mean',\n",
    "        'oldbalanceOrg': 'mean',\n",
    "        'newbalanceOrig': 'mean'\n",
    "    }).reset_index()\n",
    "    temp_orig = temp_orig.rename(columns={'nameOrig': 'Account', 'amount': 'avg_amt_orig', 'oldbalanceOrg': 'avg_oldbalance_orig', 'newbalanceOrig': 'avg_newbalance_orig'})\n",
    "\n",
    "    # Example: Average balances for each account (destination)\n",
    "    temp_dest = df.groupby('nameDest').agg({\n",
    "        'oldbalanceDest': 'mean',\n",
    "        'newbalanceDest': 'mean'\n",
    "    }).reset_index()\n",
    "    temp_dest = temp_dest.rename(columns={'nameDest': 'Account', 'oldbalanceDest': 'avg_oldbalance_dest', 'newbalanceDest': 'avg_newbalance_dest'})\n",
    "\n",
    "    # Merge both origin and destination aggregations on accounts\n",
    "    accounts = pd.merge(accounts, temp_orig, on='Account', how='left')\n",
    "    accounts = pd.merge(accounts, temp_dest, on='Account', how='left')\n",
    "\n",
    "    # Fill missing values with 0 (if an account only appears in one of the origin/destination)\n",
    "    accounts = accounts.fillna(0)\n",
    "\n",
    "    return accounts"
   ]
  },
  {
   "cell_type": "code",
   "execution_count": 6,
   "metadata": {},
   "outputs": [],
   "source": [
    "def get_node_attr(df):\n",
    "    # Aggregate transactional data for node features\n",
    "    node_df = transaction_aggregate(df)\n",
    "\n",
    "    # Extract node labels (isFraud)\n",
    "    node_label = df['isFraud'].values\n",
    "    node_label = tf.convert_to_tensor(node_label, dtype=tf.float32)\n",
    "    node_label = tf.reshape(node_label, (-1, 1))\n",
    "\n",
    "    return node_df, node_label"
   ]
  },
  {
   "cell_type": "code",
   "execution_count": 7,
   "metadata": {},
   "outputs": [],
   "source": [
    "# Apply preprocessing\n",
    "df = preprocess(df)"
   ]
  },
  {
   "cell_type": "code",
   "execution_count": null,
   "metadata": {},
   "outputs": [],
   "source": [
    "# Get node embeddings and labels\n",
    "node_df, node_label = get_node_attr(df)"
   ]
  },
  {
   "cell_type": "code",
   "execution_count": null,
   "metadata": {},
   "outputs": [],
   "source": [
    "# Display the node embeddings and labels\n",
    "print(node_df)\n",
    "print(node_label)"
   ]
  }
 ],
 "metadata": {
  "kernelspec": {
   "display_name": "Python3",
   "language": "python",
   "name": "python3"
  },
  "language_info": {
   "codemirror_mode": {
    "name": "ipython",
    "version": 3
   },
   "file_extension": ".py",
   "mimetype": "text/x-python",
   "name": "python",
   "nbconvert_exporter": "python",
   "pygments_lexer": "ipython3",
   "version": "3.6.9"
  }
 },
 "nbformat": 4,
 "nbformat_minor": 2
}
