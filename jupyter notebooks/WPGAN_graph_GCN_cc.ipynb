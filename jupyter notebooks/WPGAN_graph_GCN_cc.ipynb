{
 "cells": [
  {
   "cell_type": "code",
   "execution_count": 1,
   "metadata": {},
   "outputs": [
    {
     "name": "stderr",
     "output_type": "stream",
     "text": [
      "/home/girishkk/.local/lib/python3.6/site-packages/tqdm/auto.py:22: TqdmWarning: IProgress not found. Please update jupyter and ipywidgets. See https://ipywidgets.readthedocs.io/en/stable/user_install.html\n",
      "  from .autonotebook import tqdm as notebook_tqdm\n"
     ]
    }
   ],
   "source": [
    "import pandas as pd\n",
    "import torch\n",
    "import numpy as np\n",
    "from sklearn import preprocessing\n",
    "from sklearn.metrics import roc_auc_score, roc_curve, accuracy_score, confusion_matrix\n",
    "import matplotlib.pyplot as plt\n",
    "import torch.nn as nn\n",
    "import torch.nn.functional as F\n",
    "import torch.optim as optim"
   ]
  },
  {
   "cell_type": "code",
   "execution_count": 2,
   "metadata": {},
   "outputs": [],
   "source": [
    "# Step 1: Data Preprocessing and Label Encoding\n",
    "def df_label_encoder(df, columns):\n",
    "    le = preprocessing.LabelEncoder()\n",
    "    for col in columns:\n",
    "        df[col] = le.fit_transform(df[col].astype(str))\n",
    "    return df"
   ]
  },
  {
   "cell_type": "code",
   "execution_count": 3,
   "metadata": {},
   "outputs": [],
   "source": [
    "# Preprocess the dataset and extract features for node creation\n",
    "def preprocess(df):\n",
    "    df = df_label_encoder(df, ['merchant', 'category', 'city', 'state', 'job'])\n",
    "    df['amt'] = (df['amt'] - df['amt'].min()) / (df['amt'].max() - df['amt'].min())\n",
    "    df['node_from'] = df['cc_num'].astype(str)\n",
    "    df['node_to'] = df['merchant'].astype(str)\n",
    "    df = df.sort_values(by=['node_from'])\n",
    "    node_list = pd.concat([df['node_from'], df['node_to']]).unique()\n",
    "    return df, node_list"
   ]
  },
  {
   "cell_type": "code",
   "execution_count": 4,
   "metadata": {},
   "outputs": [],
   "source": [
    "def create_graph_data(df, node_list):\n",
    "    # Create a mapping of node names to indices\n",
    "    node_map = {node: idx for idx, node in enumerate(node_list)}\n",
    "    \n",
    "    # Convert edges to indices\n",
    "    edge_index = np.array([\n",
    "        [node_map[from_node], node_map[to_node]] for from_node, to_node in zip(df['node_from'], df['node_to'])\n",
    "    ], dtype=np.int64).T  # Transpose to get the shape [2, num_edges]\n",
    "\n",
    "    # Node features (converted to numpy array or tensor)\n",
    "    node_features = torch.tensor(df[['amt', 'category', 'city', 'state']].values, dtype=torch.float)\n",
    "\n",
    "    # Labels (0 for non-fraud, 1 for fraud)\n",
    "    labels = torch.tensor(df['is_fraud'].values, dtype=torch.long)\n",
    "\n",
    "    return node_features, edge_index, labels\n"
   ]
  },
  {
   "cell_type": "code",
   "execution_count": 5,
   "metadata": {},
   "outputs": [],
   "source": [
    "# Load dataset and preprocess\n",
    "df = pd.read_csv('creditcard/fraudTrain.csv')  # Update with your .csv file path\n",
    "df, node_list = preprocess(df)"
   ]
  },
  {
   "cell_type": "code",
   "execution_count": 6,
   "metadata": {},
   "outputs": [],
   "source": [
    "# Create the graph dataset\n",
    "node_features, edge_index, labels = create_graph_data(df, node_list)"
   ]
  },
  {
   "cell_type": "code",
   "execution_count": 7,
   "metadata": {},
   "outputs": [],
   "source": [
    "# Plot class distribution\n",
    "def plot_class_distribution(y_data, title):\n",
    "    classes, counts = torch.unique(y_data, return_counts=True)\n",
    "    plt.bar(classes.numpy(), counts.numpy())\n",
    "    plt.title(title)\n",
    "    plt.xticks([0, 1], ['Non-Fraud', 'Fraud'])\n",
    "    plt.show()"
   ]
  },
  {
   "cell_type": "code",
   "execution_count": 8,
   "metadata": {},
   "outputs": [
    {
     "data": {
      "image/png": "[encoded data removed]",
      "text/plain": [
       "<Figure size 432x288 with 1 Axes>"
      ]
     },
     "metadata": {
      "needs_background": "light"
     },
     "output_type": "display_data"
    }
   ],
   "source": [
    "# Plot initial class distribution\n",
    "plot_class_distribution(labels, \"Class Distribution Before Augmentation\")"
   ]
  },
  {
   "cell_type": "code",
   "execution_count": 9,
   "metadata": {},
   "outputs": [],
   "source": [
    "import tensorflow as tf\n",
    "from tensorflow.keras import layers\n",
    "\n",
    "def create_adjacency_matrix(df, node_list):\n",
    "    # Step 1: Create a mapping from node to index\n",
    "    node_map = {node: idx for idx, node in enumerate(node_list)}\n",
    "\n",
    "    # Step 2: Initialize an empty adjacency matrix of size [num_nodes, num_nodes]\n",
    "    num_nodes = len(node_list)\n",
    "    adjacency_matrix = np.zeros((num_nodes, num_nodes), dtype=np.float32)\n",
    "\n",
    "    # Step 3: Iterate over each row in the dataframe and update the adjacency matrix\n",
    "    for from_node, to_node in zip(df['node_from'], df['node_to']):\n",
    "        from_idx = node_map[from_node]\n",
    "        to_idx = node_map[to_node]\n",
    "        adjacency_matrix[from_idx, to_idx] = 1  # Directed edge from from_node to to_node\n",
    "\n",
    "    return adjacency_matrix\n",
    "\n",
    "adjacency_matrix = create_adjacency_matrix(df, node_list)\n",
    "\n",
    "# Step 1: Define a GCN layer\n",
    "class GCNLayer(layers.Layer):\n",
    "    def __init__(self, output_dim, activation=None):\n",
    "        super(GCNLayer, self).__init__()\n",
    "        self.output_dim = output_dim\n",
    "        self.activation = activation\n",
    "\n",
    "    def build(self, input_shape):\n",
    "        self.kernel = self.add_weight(\n",
    "            shape=(input_shape[-1], self.output_dim),\n",
    "            initializer='glorot_uniform',\n",
    "            trainable=True\n",
    "        )\n",
    "\n",
    "    def call(self, node_features, adjacency_matrix):\n",
    "        # GCN operation: A * X * W (adjacency matrix times node features times weights)\n",
    "        support = tf.matmul(node_features, self.kernel)\n",
    "        output = tf.matmul(adjacency_matrix, support)\n",
    "        if self.activation:\n",
    "            output = self.activation(output)\n",
    "        return output"
   ]
  },
  {
   "cell_type": "code",
   "execution_count": 10,
   "metadata": {},
   "outputs": [],
   "source": [
    "# Updated WGAN Generator with GCN Layers\n",
    "class WGANGenerator(nn.Module):\n",
    "    def __init__(self, input_size, hidden_size, output_size, gcn_hidden_size):\n",
    "        super(WGANGenerator, self).__init__()\n",
    "        self.gcn1 = GCNLayer(input_size, gcn_hidden_size, activation=F.relu)\n",
    "        self.gcn2 = GCNLayer(gcn_hidden_size, hidden_size, activation=F.relu)\n",
    "        self.fc = nn.Linear(hidden_size, output_size)\n",
    "\n",
    "    def forward(self, z, adjacency_matrix):\n",
    "        z = self.gcn1(z, adjacency_matrix)\n",
    "        z = self.gcn2(z, adjacency_matrix)\n",
    "        return torch.tanh(self.fc(z))  # Final activation as per generator requirements"
   ]
  },
  {
   "cell_type": "code",
   "execution_count": 11,
   "metadata": {},
   "outputs": [],
   "source": [
    "# Updated WGAN Discriminator with GCN Layers\n",
    "class WGANDiscriminator(nn.Module):\n",
    "    def __init__(self, input_size, hidden_size, gcn_hidden_size):\n",
    "        super(WGANDiscriminator, self).__init__()\n",
    "        self.gcn1 = GCNLayer(input_size, gcn_hidden_size, activation=F.relu)\n",
    "        self.gcn2 = GCNLayer(gcn_hidden_size, hidden_size, activation=F.relu)\n",
    "        self.fc = nn.Linear(hidden_size, 1)\n",
    "\n",
    "    def forward(self, x, adjacency_matrix):\n",
    "        x = self.gcn1(x, adjacency_matrix)\n",
    "        x = self.gcn2(x, adjacency_matrix)\n",
    "        return self.fc(x)  # Output raw score without activation (WGAN uses raw score)\n"
   ]
  },
  {
   "cell_type": "code",
   "execution_count": 10,
   "metadata": {},
   "outputs": [],
   "source": [
    "# WGAN parameters\n",
    "input_size = node_features.shape[1]\n",
    "hidden_size = 128\n",
    "output_size = input_size\n",
    "latent_size = 64\n",
    "gcn_hidden_size = 64"
   ]
  },
  {
   "cell_type": "code",
   "execution_count": 13,
   "metadata": {},
   "outputs": [],
   "source": [
    "# Initialize WGAN components\n",
    "generator = WGANGenerator(latent_size, hidden_size, output_size, gcn_hidden_size)\n",
    "discriminator = WGANDiscriminator(input_size, hidden_size, gcn_hidden_size)"
   ]
  },
  {
   "cell_type": "code",
   "execution_count": 14,
   "metadata": {},
   "outputs": [],
   "source": [
    "# Optimizers\n",
    "optimizer_g = optim.Adam(generator.parameters(), lr=0.0001)\n",
    "optimizer_d = optim.Adam(discriminator.parameters(), lr=0.0001)"
   ]
  },
  {
   "cell_type": "code",
   "execution_count": 15,
   "metadata": {},
   "outputs": [],
   "source": [
    "# Function to compute statistics: mean, variance, and standard deviation\n",
    "def compute_statistics(features):\n",
    "    mean = torch.mean(features, dim=0)\n",
    "    var = torch.var(features, dim=0)\n",
    "    std = torch.std(features, dim=0)\n",
    "    return mean, var, std"
   ]
  },
  {
   "cell_type": "code",
   "execution_count": 16,
   "metadata": {},
   "outputs": [
    {
     "name": "stdout",
     "output_type": "stream",
     "text": [
      "Initial Mean: tensor([2.3957e-03, 6.2278e+00, 4.4526e+02, 2.6677e+01]), Initial Variance: tensor([3.0670e-05, 1.5315e+01, 6.6874e+04, 2.0538e+02]), Initial Std Dev: tensor([5.5381e-03, 3.9134e+00, 2.5860e+02, 1.4331e+01])\n"
     ]
    }
   ],
   "source": [
    "# Print initial statistics\n",
    "initial_mean, initial_var, initial_std = compute_statistics(node_features)\n",
    "print(f\"Initial Mean: {initial_mean}, Initial Variance: {initial_var}, Initial Std Dev: {initial_std}\")"
   ]
  },
  {
   "cell_type": "code",
   "execution_count": 17,
   "metadata": {},
   "outputs": [],
   "source": [
    "# Training with early stopping\n",
    "num_epochs = 16\n",
    "target_minority_class = torch.sum(labels == 0)\n",
    "real_data = node_features[labels == 1]"
   ]
  },
  {
   "cell_type": "code",
   "execution_count": 18,
   "metadata": {},
   "outputs": [],
   "source": [
    "# Early stopping parameters\n",
    "best_loss_d = float('inf')\n",
    "patience = 1\n",
    "trigger_times = 0"
   ]
  },
  {
   "cell_type": "code",
   "execution_count": 19,
   "metadata": {},
   "outputs": [
    {
     "name": "stdout",
     "output_type": "stream",
     "text": [
      "Epoch [0/16], Loss D: -0.35834982991218567, Loss G: -0.010147985070943832\n",
      "Epoch [1/16], Loss D: -0.4399767816066742, Loss G: -0.01005773525685072\n",
      "Epoch [2/16], Loss D: -0.513852059841156, Loss G: -0.009975356981158257\n",
      "Epoch [3/16], Loss D: -0.5846003890037537, Loss G: -0.009895249269902706\n",
      "Epoch [4/16], Loss D: -0.6532214879989624, Loss G: -0.009819505736231804\n",
      "Epoch [5/16], Loss D: -0.7208928465843201, Loss G: -0.009736592881381512\n",
      "Epoch [6/16], Loss D: -0.7878419756889343, Loss G: -0.00966282095760107\n",
      "Epoch [7/16], Loss D: -0.853810727596283, Loss G: -0.00959080457687378\n",
      "Epoch [8/16], Loss D: -0.9187986254692078, Loss G: -0.009519949555397034\n",
      "Epoch [9/16], Loss D: -0.9831116199493408, Loss G: -0.00948223378509283\n",
      "Epoch [10/16], Loss D: -1.0467662811279297, Loss G: -0.009392029605805874\n",
      "Epoch [11/16], Loss D: -1.1098198890686035, Loss G: -0.009347864426672459\n",
      "Epoch [12/16], Loss D: -1.1716290712356567, Loss G: -0.00928428303450346\n",
      "Epoch [13/16], Loss D: -1.2311666011810303, Loss G: -0.009236137382686138\n",
      "Epoch [14/16], Loss D: -1.2958790063858032, Loss G: -0.009194422513246536\n",
      "Epoch [15/16], Loss D: -1.376840591430664, Loss G: -0.009169105440378189\n"
     ]
    }
   ],
   "source": [
    "for epoch in range(num_epochs):\n",
    "    current_minority_count = torch.sum(labels == 1)\n",
    "    if current_minority_count >= target_minority_class:\n",
    "        break\n",
    "\n",
    "    # Update the discriminator 5 times for every generator update\n",
    "    for _ in range(5):\n",
    "        z = torch.randn(real_data.size(0), latent_size)\n",
    "        fake_data = generator(z)\n",
    "\n",
    "        optimizer_d.zero_grad()\n",
    "        d_real = discriminator(real_data)\n",
    "        d_fake = discriminator(fake_data.detach())\n",
    "        loss_d = -torch.mean(d_real) + torch.mean(d_fake)\n",
    "        loss_d.backward()\n",
    "        optimizer_d.step()\n",
    "\n",
    "        # Clip weights\n",
    "        for p in discriminator.parameters():\n",
    "            p.data.clamp_(-0.01, 0.01)\n",
    "\n",
    "    optimizer_g.zero_grad()\n",
    "    fake_data = generator(torch.randn(real_data.size(0), latent_size))\n",
    "    loss_g = -torch.mean(discriminator(fake_data))\n",
    "    loss_g.backward()\n",
    "    optimizer_g.step()\n",
    "\n",
    "    # Update labels based on newly generated samples\n",
    "    labels = torch.cat((labels, torch.zeros(fake_data.size(0), dtype=torch.long)))\n",
    "    node_features = torch.cat((node_features, fake_data))\n",
    "\n",
    "    # Early stopping check\n",
    "    if loss_d.item() < best_loss_d:\n",
    "        best_loss_d = loss_d.item()\n",
    "        trigger_times = 0\n",
    "    else:\n",
    "        trigger_times += 1\n",
    "\n",
    "    if trigger_times >= patience:\n",
    "        print(\"Early stopping triggered\")\n",
    "        break\n",
    "\n",
    "    if epoch % 1 == 0:\n",
    "        print(f'Epoch [{epoch}/{num_epochs}], Loss D: {loss_d.item()}, Loss G: {loss_g.item()}')\n"
   ]
  },
  {
   "cell_type": "code",
   "execution_count": 20,
   "metadata": {},
   "outputs": [],
   "source": [
    "# Generate enough samples to match the class distribution\n",
    "num_generated_samples = target_minority_class - current_minority_count\n",
    "generated_data = generator(torch.randn(num_generated_samples, latent_size))\n",
    "y_generated = torch.ones(num_generated_samples, dtype=torch.long)"
   ]
  },
  {
   "cell_type": "code",
   "execution_count": 21,
   "metadata": {},
   "outputs": [],
   "source": [
    "# Combine generated data with the original data\n",
    "x_augmented = torch.cat([node_features, generated_data], dim=0)\n",
    "y_augmented = torch.cat([labels, y_generated], dim=0)"
   ]
  },
  {
   "cell_type": "code",
   "execution_count": 22,
   "metadata": {},
   "outputs": [
    {
     "data": {
      "image/png": "[encoded data removed]",
      "text/plain": [
       "<Figure size 432x288 with 1 Axes>"
      ]
     },
     "metadata": {
      "needs_background": "light"
     },
     "output_type": "display_data"
    }
   ],
   "source": [
    "# Plot augmented class distribution\n",
    "plot_class_distribution(y_augmented, \"Class Distribution After Augmentation\")"
   ]
  },
  {
   "cell_type": "code",
   "execution_count": 23,
   "metadata": {},
   "outputs": [
    {
     "name": "stdout",
     "output_type": "stream",
     "text": [
      "Final Mean: tensor([-1.6623e-01,  3.0168e+00,  2.1398e+02,  1.2811e+01],\n",
      "       grad_fn=<MeanBackward1>), Final Variance: tensor([4.5227e-02, 1.6916e+01, 8.1619e+04, 2.7657e+02],\n",
      "       grad_fn=<VarBackward0>), Final Std Dev: tensor([2.1267e-01, 4.1129e+00, 2.8569e+02, 1.6630e+01],\n",
      "       grad_fn=<StdBackward0>)\n"
     ]
    }
   ],
   "source": [
    "# Print final statistics\n",
    "final_mean, final_var, final_std = compute_statistics(x_augmented)\n",
    "print(f\"Final Mean: {final_mean}, Final Variance: {final_var}, Final Std Dev: {final_std}\")"
   ]
  },
  {
   "cell_type": "code",
   "execution_count": 24,
   "metadata": {},
   "outputs": [],
   "source": [
    "# Assuming real_data is your actual node features labeled as fraud (real minority class)\n",
    "real_data = node_features[labels == 1]  # Take only fraud samples (minority class)\n",
    "\n",
    "# If generated_data has more samples than real_data, we need to match their size\n",
    "min_size = min(real_data.size(0), generated_data.size(0))\n",
    "\n",
    "# Subsample real and generated data to have the same number of rows\n",
    "real_data_sampled = real_data[:min_size]\n",
    "generated_data_sampled = generated_data[:min_size]\n",
    "\n",
    "# Function to compute R-squared\n",
    "def r_squared(real_data, generated_data):\n",
    "    ss_res = torch.sum((real_data - generated_data) ** 2, dim=0)  # Residual sum of squares\n",
    "    ss_tot = torch.sum((real_data - torch.mean(real_data, dim=0)) ** 2, dim=0)  # Total sum of squares\n",
    "    r2 = 1 - (ss_res / ss_tot)\n",
    "    return r2"
   ]
  },
  {
   "cell_type": "code",
   "execution_count": 25,
   "metadata": {},
   "outputs": [
    {
     "name": "stdout",
     "output_type": "stream",
     "text": [
      "R-squared for each feature: tensor([-825.4730,   -3.6629,   -2.8834,   -3.5866], grad_fn=<RsubBackward1>)\n",
      "Mean R-squared: -208.90147399902344\n"
     ]
    }
   ],
   "source": [
    "# Compute R-squared between the real and generated data samples\n",
    "r2_scores = r_squared(real_data_sampled, generated_data_sampled)\n",
    "print(f\"R-squared for each feature: {r2_scores}\")\n",
    "print(f\"Mean R-squared: {r2_scores.mean()}\")"
   ]
  },
  {
   "cell_type": "code",
   "execution_count": 26,
   "metadata": {},
   "outputs": [],
   "source": [
    "from sklearn.metrics import confusion_matrix"
   ]
  },
  {
   "cell_type": "code",
   "execution_count": 27,
   "metadata": {},
   "outputs": [],
   "source": [
    "# Function to calculate MCC\n",
    "def calculate_mcc(y_true, y_pred):\n",
    "    # Convert PyTorch tensors to NumPy arrays after detaching from the graph\n",
    "    y_true_np = y_true.detach().cpu().numpy()  # Detach and move to CPU if necessary\n",
    "    y_pred_np = y_pred.detach().cpu().numpy()  # Detach and move to CPU if necessary\n",
    "\n",
    "    # Calculate confusion matrix\n",
    "    tn, fp, fn, tp = confusion_matrix(y_true_np, y_pred_np).ravel()\n",
    "\n",
    "    # Convert confusion matrix components to PyTorch tensors\n",
    "    tp = torch.tensor(tp, dtype=torch.float)\n",
    "    tn = torch.tensor(tn, dtype=torch.float)\n",
    "    fp = torch.tensor(fp, dtype=torch.float)\n",
    "    fn = torch.tensor(fn, dtype=torch.float)\n",
    "\n",
    "    # Apply MCC formula\n",
    "    numerator = (tp * tn) - (fp * fn)\n",
    "    denominator = torch.sqrt((tp + fp) * (tp + fn) * (tn + fp) * (tn + fn))\n",
    "\n",
    "    if denominator == 0:\n",
    "        return 0  # Handle division by zero\n",
    "    else:\n",
    "        mcc = numerator / denominator\n",
    "        return mcc"
   ]
  },
  {
   "cell_type": "code",
   "execution_count": 28,
   "metadata": {},
   "outputs": [],
   "source": [
    "# Let's assume you have binary predictions from the discriminator\n",
    "real_data_labels = labels  # Known 'is_fraud' labels (0 or 1)\n",
    "generated_labels = torch.round(discriminator(generated_data_sampled)).detach()  # Detach here as well"
   ]
  },
  {
   "cell_type": "code",
   "execution_count": 29,
   "metadata": {},
   "outputs": [],
   "source": [
    "# Ensure both real and generated labels have the same size\n",
    "real_data_labels_sampled = real_data_labels[:min_size]"
   ]
  },
  {
   "cell_type": "code",
   "execution_count": 30,
   "metadata": {},
   "outputs": [
    {
     "name": "stdout",
     "output_type": "stream",
     "text": [
      "Matthews Correlation Coefficient (MCC): 0.7895396101\n"
     ]
    }
   ],
   "source": [
    "# Calculate MCC\n",
    "mcc = calculate_mcc(real_data_labels_sampled, generated_labels)\n",
    "print(f\"Matthews Correlation Coefficient (MCC): {mcc}\")"
   ]
  },
  {
   "cell_type": "code",
   "execution_count": 31,
   "metadata": {},
   "outputs": [
    {
     "name": "stdout",
     "output_type": "stream",
     "text": [
      "Accuracy: 0.9947\n",
      "Precision: 0.9544\n",
      "Recall: 0.9568\n",
      "F1 Score: 0.9595\n"
     ]
    },
    {
     "name": "stderr",
     "output_type": "stream",
     "text": [
      "/home/girishkk/.local/lib/python3.6/site-packages/sklearn/metrics/_classification.py:1248: UndefinedMetricWarning: Precision is ill-defined and being set to 0.0 due to no predicted samples. Use `zero_division` parameter to control this behavior.\n",
      "  _warn_prf(average, modifier, msg_start, len(result))\n"
     ]
    }
   ],
   "source": [
    "from sklearn.metrics import accuracy_score, precision_score, recall_score, f1_score\n",
    "\n",
    "# Function to calculate all metrics\n",
    "def calculate_metrics(y_true, y_pred):\n",
    "    # Convert PyTorch tensors to NumPy arrays after detaching from the graph\n",
    "    y_true_np = y_true.detach().cpu().numpy()  # Detach and move to CPU if necessary\n",
    "    y_pred_np = y_pred.detach().cpu().numpy()  # Detach and move to CPU if necessary\n",
    "    \n",
    "    # Calculate accuracy, precision, recall, and F1 score\n",
    "    accuracy = accuracy_score(y_true_np, y_pred_np)\n",
    "    precision = precision_score(y_true_np, y_pred_np)\n",
    "    recall = recall_score(y_true_np, y_pred_np)\n",
    "    f1 = f1_score(y_true_np, y_pred_np)\n",
    "    \n",
    "    return accuracy, precision, recall, f1\n",
    "\n",
    "# Calculate metrics for the real and generated data labels\n",
    "accuracy, precision, recall, f1 = calculate_metrics(real_data_labels_sampled, generated_labels)\n",
    "\n",
    "# Print the results\n",
    "print(f\"Accuracy: {accuracy:.4f}\")\n",
    "print(f\"Precision: {precision:.4f}\")\n",
    "print(f\"Recall: {recall:.4f}\")\n",
    "print(f\"F1 Score: {f1:.4f}\")"
   ]
  },
  {
   "cell_type": "code",
   "execution_count": 7,
   "metadata": {},
   "outputs": [],
   "source": [
    "# Split Data into Train and Test\n",
    "from sklearn.model_selection import train_test_split\n",
    "x_train, x_test, y_train, y_test = train_test_split(node_features, labels, test_size=0.2, random_state=42)"
   ]
  },
  {
   "cell_type": "code",
   "execution_count": 8,
   "metadata": {},
   "outputs": [],
   "source": [
    "# Define Classifier Model\n",
    "class Classifier(nn.Module):\n",
    "    def __init__(self, input_size, hidden_size):\n",
    "        super(Classifier, self).__init__()\n",
    "        self.fc1 = nn.Linear(input_size, hidden_size)\n",
    "        self.fc2 = nn.Linear(hidden_size, 2)\n",
    "\n",
    "    def forward(self, x):\n",
    "        x = torch.relu(self.fc1(x))\n",
    "        return self.fc2(x)"
   ]
  },
  {
   "cell_type": "code",
   "execution_count": 11,
   "metadata": {},
   "outputs": [],
   "source": [
    "# Training Classifier on Balanced Dataset\n",
    "classifier = Classifier(input_size, hidden_size)\n",
    "optimizer = optim.Adam(classifier.parameters(), lr=0.001)\n",
    "loss_fn = nn.CrossEntropyLoss()\n",
    "train_losses, test_losses = [], []\n",
    "train_accuracies, test_accuracies = [], []"
   ]
  },
  {
   "cell_type": "code",
   "execution_count": 12,
   "metadata": {},
   "outputs": [
    {
     "name": "stdout",
     "output_type": "stream",
     "text": [
      "Epoch 0, Train Loss: 2.6018, Test Loss: 0.4885, Train Acc: 0.8453, Test Acc: 0.8450\n",
      "Epoch 5, Train Loss: 0.2600, Test Loss: 0.2711, Train Acc: 0.9942, Test Acc: 0.9943\n",
      "Epoch 10, Train Loss: 0.3480, Test Loss: 0.3502, Train Acc: 0.9942, Test Acc: 0.9943\n",
      "Epoch 15, Train Loss: 0.3975, Test Loss: 0.3920, Train Acc: 0.9942, Test Acc: 0.9943\n",
      "Epoch 20, Train Loss: 0.4201, Test Loss: 0.4100, Train Acc: 0.9942, Test Acc: 0.9943\n",
      "Epoch 25, Train Loss: 0.4257, Test Loss: 0.4130, Train Acc: 0.9942, Test Acc: 0.9943\n"
     ]
    }
   ],
   "source": [
    "from sklearn.metrics import accuracy_score\n",
    "import torch\n",
    "\n",
    "# Classifier Training Loop\n",
    "train_losses = []\n",
    "train_accuracies = []\n",
    "test_losses = []\n",
    "test_accuracies = []\n",
    "\n",
    "for epoch in range(30):\n",
    "    # Training phase\n",
    "    classifier.train()\n",
    "    optimizer.zero_grad()\n",
    "    \n",
    "    # Forward pass and backpropagation\n",
    "    y_pred = classifier(x_train)\n",
    "    loss = loss_fn(y_pred, y_train)\n",
    "    loss.backward(retain_graph=True)\n",
    "    optimizer.step()\n",
    "    \n",
    "    # Detach loss for recording and release computation graph\n",
    "    train_losses.append(loss.item())\n",
    "    \n",
    "    # Switch to evaluation mode for accuracy calculation\n",
    "    classifier.eval()\n",
    "    with torch.no_grad():\n",
    "        # Training accuracy\n",
    "        y_pred_train = classifier(x_train)\n",
    "        train_accuracy = accuracy_score(y_train.cpu().numpy(), y_pred_train.argmax(dim=1).cpu().numpy())\n",
    "        train_accuracies.append(train_accuracy)\n",
    "        \n",
    "        # Testing loss and accuracy\n",
    "        y_test_pred = classifier(x_test)\n",
    "        test_loss = loss_fn(y_test_pred, y_test)\n",
    "        test_losses.append(test_loss.item())\n",
    "        test_accuracy = accuracy_score(y_test.cpu().numpy(), y_test_pred.argmax(dim=1).cpu().numpy())\n",
    "        test_accuracies.append(test_accuracy)\n",
    "    \n",
    "    # Print stats every 5 epochs\n",
    "    if epoch % 5 == 0:\n",
    "        print(f'Epoch {epoch}, Train Loss: {loss.item():.4f}, Test Loss: {test_loss.item():.4f}, '\n",
    "              f'Train Acc: {train_accuracy:.4f}, Test Acc: {test_accuracy:.4f}')\n"
   ]
  },
  {
   "cell_type": "code",
   "execution_count": 13,
   "metadata": {},
   "outputs": [
    {
     "data": {
      "image/png": "[encoded data removed]",
      "text/plain": [
       "<Figure size 432x288 with 1 Axes>"
      ]
     },
     "metadata": {
      "needs_background": "light"
     },
     "output_type": "display_data"
    }
   ],
   "source": [
    "# Plot Train-Test Accuracy Curve\n",
    "plt.figure()\n",
    "plt.plot(train_accuracies, label=\"Train Accuracy\")\n",
    "plt.plot(test_accuracies, label=\"Test Accuracy\")\n",
    "plt.xlabel(\"Epochs\")\n",
    "plt.ylabel(\"Accuracy\")\n",
    "plt.legend()\n",
    "plt.title(\"Train-Test Accuracy Curve\")\n",
    "plt.show()"
   ]
  },
  {
   "cell_type": "code",
   "execution_count": 14,
   "metadata": {},
   "outputs": [
    {
     "data": {
      "image/png": "[encoded data removed]",
      "text/plain": [
       "<Figure size 432x288 with 1 Axes>"
      ]
     },
     "metadata": {
      "needs_background": "light"
     },
     "output_type": "display_data"
    }
   ],
   "source": [
    "# Plot Train-Test Loss Curve\n",
    "plt.figure()\n",
    "plt.plot(train_losses, label=\"Train Loss\")\n",
    "plt.plot(test_losses, label=\"Test Loss\")\n",
    "plt.xlabel(\"Epochs\")\n",
    "plt.ylabel(\"Loss\")\n",
    "plt.legend()\n",
    "plt.title(\"Train-Test Loss Curve\")\n",
    "plt.show()"
   ]
  },
  {
   "cell_type": "code",
   "execution_count": 15,
   "metadata": {},
   "outputs": [
    {
     "name": "stdout",
     "output_type": "stream",
     "text": [
      "Confusion Matrix:\n",
      " [[257861      0]\n",
      " [  1474      0]]\n"
     ]
    }
   ],
   "source": [
    "# Compute Confusion Matrix and ROC-AUC\n",
    "y_test_pred = classifier(x_test).argmax(dim=1)\n",
    "cm = confusion_matrix(y_test, y_test_pred)\n",
    "print(\"Confusion Matrix:\\n\", cm)"
   ]
  },
  {
   "cell_type": "code",
   "execution_count": 16,
   "metadata": {},
   "outputs": [],
   "source": [
    "# Compute ROC AUC Score\n",
    "with torch.no_grad():  # Ensure gradients are not being tracked\n",
    "    y_test_proba = torch.softmax(classifier(x_test), dim=1)[:, 1].detach().numpy()\n",
    "    roc_auc = roc_auc_score(y_test.numpy(), y_test_proba)\n",
    "    fpr, tpr, _ = roc_curve(y_test.numpy(), y_test_proba)\n"
   ]
  },
  {
   "cell_type": "code",
   "execution_count": 17,
   "metadata": {},
   "outputs": [
    {
     "data": {
      "image/png": "[encoded data removed]",
      "text/plain": [
       "<Figure size 432x288 with 1 Axes>"
      ]
     },
     "metadata": {
      "needs_background": "light"
     },
     "output_type": "display_data"
    }
   ],
   "source": [
    "# Plot ROC AUC Curve\n",
    "plt.figure()\n",
    "plt.plot(fpr, tpr, label=f\"ROC Curve (AUC = {roc_auc:.2f})\")\n",
    "plt.xlabel(\"False Positive Rate\")\n",
    "plt.ylabel(\"True Positive Rate\")\n",
    "plt.legend()\n",
    "plt.title(\"ROC AUC Curve\")\n",
    "plt.show()"
   ]
  },
  {
   "cell_type": "code",
   "execution_count": 1,
   "metadata": {},
   "outputs": [
    {
     "name": "stderr",
     "output_type": "stream",
     "text": [
      "/home/girishkk/.local/lib/python3.6/site-packages/tqdm/auto.py:22: TqdmWarning: IProgress not found. Please update jupyter and ipywidgets. See https://ipywidgets.readthedocs.io/en/stable/user_install.html\n",
      "  from .autonotebook import tqdm as notebook_tqdm\n"
     ]
    },
    {
     "name": "stdout",
     "output_type": "stream",
     "text": [
      "Jensen-Shannon Divergence (Mode Collapse Score): 0.1876\n"
     ]
    }
   ],
   "source": [
    "import torch\n",
    "import torch.nn.functional as F\n",
    "import numpy as np\n",
    "from scipy.spatial.distance import jensenshannon\n",
    "\n",
    "def calculate_jsd(true_data, generated_data, bins=100):\n",
    "    \"\"\"\n",
    "    Compute the Jensen-Shannon Divergence (JSD) between the true and generated data distributions.\n",
    "    \n",
    "    :param true_data: Tensor or numpy array containing the true data.\n",
    "    :param generated_data: Tensor or numpy array containing the generated data.\n",
    "    :param bins: Number of bins to discretize the data.\n",
    "    \n",
    "    :return: Jensen-Shannon Divergence value.\n",
    "    \"\"\"\n",
    "    # Flatten and convert to numpy arrays\n",
    "    true_data = true_data.flatten().cpu().detach().numpy()\n",
    "    generated_data = generated_data.flatten().cpu().detach().numpy()\n",
    "    \n",
    "    # Compute the histograms for true and generated data\n",
    "    true_hist, _ = np.histogram(true_data, bins=bins, density=True)\n",
    "    gen_hist, _ = np.histogram(generated_data, bins=bins, density=True)\n",
    "    \n",
    "    # Add a small value to avoid zero probabilities (log(0) issue)\n",
    "    epsilon = 1e-8\n",
    "    true_hist = np.clip(true_hist, epsilon, 1.0)\n",
    "    gen_hist = np.clip(gen_hist, epsilon, 1.0)\n",
    "    \n",
    "    # Normalize histograms to ensure they sum to 1\n",
    "    true_hist /= true_hist.sum()\n",
    "    gen_hist /= gen_hist.sum()\n",
    "    \n",
    "    # Compute the Jensen-Shannon Divergence\n",
    "    jsd = jensenshannon(true_hist, gen_hist)\n",
    "    \n",
    "    return jsd\n",
    "\n",
    "# Example usage\n",
    "if __name__ == \"__main__\":\n",
    "    # Simulate some data for testing\n",
    "    true_data = torch.randn(1000)  # Example true data (e.g., real samples)\n",
    "    generated_data = torch.randn(1000)  # Example generated data (e.g., fake samples)\n",
    "    \n",
    "    jsd_score = calculate_jsd(true_data, generated_data, bins=100)\n",
    "    print(f\"Jensen-Shannon Divergence (Mode Collapse Score): {jsd_score:.4f}\")\n"
   ]
  },
  {
   "cell_type": "code",
   "execution_count": null,
   "metadata": {},
   "outputs": [],
   "source": []
  }
 ],
 "metadata": {
  "kernelspec": {
   "display_name": "Python3",
   "language": "python",
   "name": "python3"
  },
  "language_info": {
   "codemirror_mode": {
    "name": "ipython",
    "version": 3
   },
   "file_extension": ".py",
   "mimetype": "text/x-python",
   "name": "python",
   "nbconvert_exporter": "python",
   "pygments_lexer": "ipython3",
   "version": "3.6.9"
  }
 },
 "nbformat": 4,
 "nbformat_minor": 2
}
