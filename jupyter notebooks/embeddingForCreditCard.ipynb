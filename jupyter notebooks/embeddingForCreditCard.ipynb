{
 "cells": [
  {
   "cell_type": "code",
   "execution_count": 1,
   "metadata": {},
   "outputs": [],
   "source": [
    "import pandas as pd\n",
    "from sklearn import preprocessing\n",
    "import tensorflow as tf"
   ]
  },
  {
   "cell_type": "code",
   "execution_count": 2,
   "metadata": {},
   "outputs": [],
   "source": [
    "# Load your dataset\n",
    "df = pd.read_csv('creditcard/fraudTrain.csv')  # replace with actual file path"
   ]
  },
  {
   "cell_type": "code",
   "execution_count": 3,
   "metadata": {},
   "outputs": [],
   "source": [
    "# Label Encoding Function\n",
    "def df_label_encoder(df, columns):\n",
    "    le = preprocessing.LabelEncoder()\n",
    "    for col in columns:\n",
    "        df[col] = le.fit_transform(df[col].astype(str))\n",
    "    return df"
   ]
  },
  {
   "cell_type": "code",
   "execution_count": 4,
   "metadata": {},
   "outputs": [],
   "source": [
    "# Preprocessing the data (Label Encoding and feature engineering)\n",
    "def preprocess(df):\n",
    "    # List of columns to label encode\n",
    "    label_columns = ['merchant', 'category', 'gender', 'state', 'job']\n",
    "\n",
    "    # Perform label encoding on categorical columns\n",
    "    df = df_label_encoder(df, label_columns)\n",
    "\n",
    "    # Convert timestamp to numerical format and normalize\n",
    "    df['trans_date_trans_time'] = pd.to_datetime(df['trans_date_trans_time'])\n",
    "    df['trans_date_trans_time'] = df['trans_date_trans_time'].apply(lambda x: x.value)\n",
    "    df['trans_date_trans_time'] = (df['trans_date_trans_time'] - df['trans_date_trans_time'].min()) / (df['trans_date_trans_time'].max() - df['trans_date_trans_time'].min())\n",
    "\n",
    "    # Now return the processed dataframe\n",
    "    return df\n"
   ]
  },
  {
   "cell_type": "code",
   "execution_count": 5,
   "metadata": {},
   "outputs": [],
   "source": [
    "# Node Embedding Functions\n",
    "def paid_aggregate(paying_df):\n",
    "    accounts = pd.DataFrame()\n",
    "    accounts['Account'] = paying_df['cc_num'].unique()\n",
    "\n",
    "    # Example: Average transaction amount per account\n",
    "    accounts['avg_amt_paid'] = paying_df.groupby('cc_num')['amt'].transform('mean')\n",
    "\n",
    "    return accounts"
   ]
  },
  {
   "cell_type": "code",
   "execution_count": 6,
   "metadata": {},
   "outputs": [],
   "source": [
    "def get_node_attr(paying_df):\n",
    "    node_df = paid_aggregate(paying_df)\n",
    "\n",
    "    # Extract node labels if necessary\n",
    "    node_label = paying_df['is_fraud'].values\n",
    "    node_label = tf.convert_to_tensor(node_label, dtype=tf.float32)\n",
    "    node_label = tf.reshape(node_label, (-1, 1))\n",
    "\n",
    "    # Drop unnecessary columns from node embeddings\n",
    "    node_df = node_df.drop(['Account'], axis=1)\n",
    "\n",
    "    return node_df, node_label"
   ]
  },
  {
   "cell_type": "code",
   "execution_count": null,
   "metadata": {},
   "outputs": [],
   "source": [
    "# Apply preprocessing\n",
    "df = preprocess(df)"
   ]
  },
  {
   "cell_type": "code",
   "execution_count": null,
   "metadata": {},
   "outputs": [],
   "source": [
    "# Split data for node embeddings\n",
    "paying_df = df[['cc_num', 'amt', 'is_fraud']]  # Adjust depending on available columns\n",
    "node_df, node_label = get_node_attr(paying_df)"
   ]
  },
  {
   "cell_type": "code",
   "execution_count": null,
   "metadata": {},
   "outputs": [],
   "source": [
    "print(node_df)\n",
    "print(node_label)"
   ]
  },
  {
   "cell_type": "code",
   "execution_count": null,
   "metadata": {},
   "outputs": [],
   "source": []
  }
 ],
 "metadata": {
  "kernelspec": {
   "display_name": "Python3",
   "language": "python",
   "name": "python3"
  },
  "language_info": {
   "codemirror_mode": {
    "name": "ipython",
    "version": 3
   },
   "file_extension": ".py",
   "mimetype": "text/x-python",
   "name": "python",
   "nbconvert_exporter": "python",
   "pygments_lexer": "ipython3",
   "version": "3.6.9"
  }
 },
 "nbformat": 4,
 "nbformat_minor": 2
}
