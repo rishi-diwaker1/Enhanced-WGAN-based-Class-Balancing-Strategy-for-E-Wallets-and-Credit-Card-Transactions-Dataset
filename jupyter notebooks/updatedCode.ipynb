{
 "cells": [
  {
   "cell_type": "code",
   "execution_count": 1,
   "metadata": {},
   "outputs": [
    {
     "name": "stderr",
     "output_type": "stream",
     "text": [
      "/home/girishkk/.local/lib/python3.6/site-packages/tqdm/auto.py:22: TqdmWarning: IProgress not found. Please update jupyter and ipywidgets. See https://ipywidgets.readthedocs.io/en/stable/user_install.html\n",
      "  from .autonotebook import tqdm as notebook_tqdm\n"
     ]
    }
   ],
   "source": [
    "import pandas as pd\n",
    "import torch\n",
    "import numpy as np\n",
    "from sklearn import preprocessing\n",
    "import matplotlib.pyplot as plt\n",
    "import torch.nn as nn\n",
    "import torch.optim as optim\n",
    "import torch.nn.functional as F"
   ]
  },
  {
   "cell_type": "code",
   "execution_count": 2,
   "metadata": {},
   "outputs": [],
   "source": [
    "# Step 1: Data Preprocessing and Label Encoding\n",
    "def df_label_encoder(df, columns):\n",
    "    le = preprocessing.LabelEncoder()\n",
    "    for col in columns:\n",
    "        df[col] = le.fit_transform(df[col].astype(str))\n",
    "    return df"
   ]
  },
  {
   "cell_type": "code",
   "execution_count": 3,
   "metadata": {},
   "outputs": [],
   "source": [
    "def preprocess(df):\n",
    "    df = df_label_encoder(df, ['merchant', 'category', 'city', 'state', 'job'])\n",
    "    df['amt'] = (df['amt'] - df['amt'].min()) / (df['amt'].max() - df['amt'].min())\n",
    "    df['node_from'] = df['cc_num'].astype(str)\n",
    "    df['node_to'] = df['merchant'].astype(str)\n",
    "    df = df.sort_values(by=['node_from'])\n",
    "    node_list = pd.concat([df['node_from'], df['node_to']]).unique()\n",
    "    return df, node_list"
   ]
  },
  {
   "cell_type": "code",
   "execution_count": 4,
   "metadata": {},
   "outputs": [],
   "source": [
    "def create_graph_data(df, node_list):\n",
    "    node_map = {node: idx for idx, node in enumerate(node_list)}\n",
    "    edge_index = np.array([\n",
    "        [node_map[from_node], node_map[to_node]] for from_node, to_node in zip(df['node_from'], df['node_to'])\n",
    "    ], dtype=np.int64).T\n",
    "    node_features = torch.tensor(df[['amt', 'category', 'city', 'state']].values, dtype=torch.float)\n",
    "    labels = torch.tensor(df['is_fraud'].values, dtype=torch.long)\n",
    "    return node_features, edge_index, labels"
   ]
  },
  {
   "cell_type": "code",
   "execution_count": 5,
   "metadata": {},
   "outputs": [],
   "source": [
    "# Load dataset and preprocess\n",
    "df = pd.read_csv('creditcard/fraudTrain.csv')  # Update with your .csv file path\n",
    "df, node_list = preprocess(df)"
   ]
  },
  {
   "cell_type": "code",
   "execution_count": 6,
   "metadata": {},
   "outputs": [],
   "source": [
    "# Create the graph dataset\n",
    "node_features, edge_index, labels = create_graph_data(df, node_list)"
   ]
  },
  {
   "cell_type": "code",
   "execution_count": 7,
   "metadata": {},
   "outputs": [],
   "source": [
    "# Plot class distribution\n",
    "def plot_class_distribution(y_data, title):\n",
    "    classes, counts = torch.unique(y_data, return_counts=True)\n",
    "    plt.bar(classes.numpy(), counts.numpy())\n",
    "    plt.title(title)\n",
    "    plt.xticks([0, 1], ['Non-Fraud', 'Fraud'])\n",
    "    plt.show()"
   ]
  },
  {
   "cell_type": "code",
   "execution_count": 8,
   "metadata": {},
   "outputs": [
    {
     "data": {
      "image/png": "[encoded data removed]",
      "text/plain": [
       "<Figure size 432x288 with 1 Axes>"
      ]
     },
     "metadata": {
      "needs_background": "light"
     },
     "output_type": "display_data"
    }
   ],
   "source": [
    "# Plot initial class distribution\n",
    "plot_class_distribution(labels, \"Class Distribution Before Augmentation\")"
   ]
  },
  {
   "cell_type": "code",
   "execution_count": 9,
   "metadata": {},
   "outputs": [],
   "source": [
    "# Step 1: Define GCN Layer\n",
    "class GCNLayer(nn.Module):\n",
    "    def __init__(self, input_dim, output_dim):\n",
    "        super(GCNLayer, self).__init__()\n",
    "        self.weight = nn.Parameter(torch.randn(input_dim, output_dim))\n",
    "    \n",
    "    def forward(self, node_features, edge_index):\n",
    "        # Create adjacency matrix\n",
    "        num_nodes = node_features.size(0)\n",
    "        adj = torch.zeros((num_nodes, num_nodes), dtype=torch.float)\n",
    "        \n",
    "        # Fill adjacency matrix\n",
    "        for from_node, to_node in edge_index.T:\n",
    "            adj[from_node.item(), to_node.item()] = 1\n",
    "        \n",
    "        # Normalize the adjacency matrix\n",
    "        D = torch.diag(adj.sum(dim=1) ** -0.5)\n",
    "        norm_adj = D @ adj @ D\n",
    "        \n",
    "        # Perform graph convolution\n",
    "        out = norm_adj @ node_features @ self.weight\n",
    "        return out"
   ]
  },
  {
   "cell_type": "code",
   "execution_count": 10,
   "metadata": {},
   "outputs": [],
   "source": [
    "# Step 2: Update WGAN Generator and Discriminator\n",
    "class WGANGenerator(nn.Module):\n",
    "    def __init__(self, input_size, hidden_size, output_size):\n",
    "        super(WGANGenerator, self).__init__()\n",
    "        self.gcn1 = GCNLayer(input_size, hidden_size)\n",
    "        self.fc = nn.Linear(hidden_size, output_size)\n",
    "\n",
    "    def forward(self, z, edge_index, node_features):\n",
    "        z = self.gcn1(node_features, edge_index)\n",
    "        z = F.relu(z)\n",
    "        return self.fc(z)"
   ]
  },
  {
   "cell_type": "code",
   "execution_count": 11,
   "metadata": {},
   "outputs": [],
   "source": [
    "class WGANDiscriminator(nn.Module):\n",
    "    def __init__(self, input_size, hidden_size):\n",
    "        super(WGANDiscriminator, self).__init__()\n",
    "        self.gcn1 = GCNLayer(input_size, hidden_size)\n",
    "        self.fc = nn.Linear(hidden_size, 1)\n",
    "\n",
    "    def forward(self, x, edge_index):\n",
    "        x = self.gcn1(x, edge_index)\n",
    "        x = F.relu(x)\n",
    "        return self.fc(x)"
   ]
  },
  {
   "cell_type": "code",
   "execution_count": 12,
   "metadata": {},
   "outputs": [],
   "source": [
    "# WGAN parameters\n",
    "input_size = node_features.shape[1]\n",
    "hidden_size = 128\n",
    "output_size = input_size\n",
    "latent_size = 64"
   ]
  },
  {
   "cell_type": "code",
   "execution_count": 13,
   "metadata": {},
   "outputs": [],
   "source": [
    "# Initialize WGAN components\n",
    "generator = WGANGenerator(input_size, hidden_size, output_size)\n",
    "discriminator = WGANDiscriminator(input_size, hidden_size)"
   ]
  },
  {
   "cell_type": "code",
   "execution_count": 14,
   "metadata": {},
   "outputs": [],
   "source": [
    "# Optimizers\n",
    "optimizer_g = optim.Adam(generator.parameters(), lr=0.0001)\n",
    "optimizer_d = optim.Adam(discriminator.parameters(), lr=0.0001)"
   ]
  },
  {
   "cell_type": "code",
   "execution_count": 15,
   "metadata": {},
   "outputs": [],
   "source": [
    "# Function to compute statistics: mean, variance, and standard deviation\n",
    "def compute_statistics(features):\n",
    "    mean = torch.mean(features, dim=0)\n",
    "    var = torch.var(features, dim=0)\n",
    "    std = torch.std(features, dim=0)\n",
    "    return mean, var, std"
   ]
  },
  {
   "cell_type": "code",
   "execution_count": 16,
   "metadata": {},
   "outputs": [
    {
     "name": "stdout",
     "output_type": "stream",
     "text": [
      "Initial Mean: tensor([2.3957e-03, 6.2278e+00, 4.4526e+02, 2.6677e+01]), Initial Variance: tensor([3.0670e-05, 1.5315e+01, 6.6874e+04, 2.0538e+02]), Initial Std Dev: tensor([5.5381e-03, 3.9134e+00, 2.5860e+02, 1.4331e+01])\n"
     ]
    }
   ],
   "source": [
    "# Print initial statistics\n",
    "initial_mean, initial_var, initial_std = compute_statistics(node_features)\n",
    "print(f\"Initial Mean: {initial_mean}, Initial Variance: {initial_var}, Initial Std Dev: {initial_std}\")"
   ]
  },
  {
   "cell_type": "code",
   "execution_count": 17,
   "metadata": {},
   "outputs": [],
   "source": [
    "# Training with early stopping\n",
    "num_epochs = 1\n",
    "target_minority_class = torch.sum(labels == 0)\n",
    "real_data = node_features[labels == 1]"
   ]
  },
  {
   "cell_type": "code",
   "execution_count": 18,
   "metadata": {},
   "outputs": [],
   "source": [
    "# Early stopping parameters\n",
    "best_loss_d = float('inf')\n",
    "patience = 1\n",
    "trigger_times = 0"
   ]
  },
  {
   "cell_type": "code",
   "execution_count": null,
   "metadata": {},
   "outputs": [],
   "source": [
    "for epoch in range(num_epochs):\n",
    "    current_minority_count = torch.sum(labels == 1)\n",
    "    if current_minority_count >= target_minority_class:\n",
    "        break\n",
    "\n",
    "    # Update the discriminator 5 times for every generator update\n",
    "    for _ in range(1):\n",
    "        z = torch.randn(real_data.size(0), latent_size)\n",
    "        fake_data = generator(z, edge_index, node_features)\n",
    "\n",
    "        optimizer_d.zero_grad()\n",
    "        d_real = discriminator(real_data, edge_index)\n",
    "        d_fake = discriminator(fake_data.detach(), edge_index)\n",
    "        loss_d = -torch.mean(d_real) + torch.mean(d_fake)\n",
    "        loss_d.backward()\n",
    "        optimizer_d.step()\n",
    "\n",
    "        # Clip weights\n",
    "        for p in discriminator.parameters():\n",
    "            p.data.clamp_(-0.01, 0.01)\n",
    "\n",
    "    optimizer_g.zero_grad()\n",
    "    fake_data = generator(torch.randn(real_data.size(0), latent_size), edge_index, node_features)\n",
    "    loss_g = -torch.mean(discriminator(fake_data, edge_index))\n",
    "    loss_g.backward()\n",
    "    optimizer_g.step()\n",
    "\n",
    "    # Update labels based on newly generated samples\n",
    "    labels = torch.cat((labels, torch.zeros(fake_data.size(0), dtype=torch.long)))\n",
    "    node_features = torch.cat((node_features, fake_data))\n",
    "\n",
    "    # Early stopping check\n",
    "    if loss_d.item() < best_loss_d:\n",
    "        best_loss_d = loss_d.item()\n",
    "        trigger_times = 0\n",
    "    else:\n",
    "        trigger_times += 1\n",
    "\n",
    "    if trigger_times >= patience:\n",
    "        print(\"Early stopping triggered\")\n",
    "        break\n",
    "\n",
    "    if epoch % 1 == 0:\n",
    "        print(f'Epoch [{epoch}/{num_epochs}], Loss D: {loss_d.item()}, Loss G: {loss_g.item()}')"
   ]
  },
  {
   "cell_type": "code",
   "execution_count": null,
   "metadata": {},
   "outputs": [],
   "source": [
    "# Generate enough samples to match the class distribution\n",
    "num_generated_samples = target_minority_class - current_minority_count\n",
    "generated_data = generator(torch.randn(num_generated_samples, latent_size), edge_index, node_features)\n",
    "y_generated = torch.ones(num_generated_samples, dtype=torch.long)"
   ]
  },
  {
   "cell_type": "code",
   "execution_count": null,
   "metadata": {},
   "outputs": [],
   "source": [
    "# Combine generated data with the original data\n",
    "x_augmented = torch.cat([node_features, generated_data], dim=0)\n",
    "y_augmented = torch.cat([labels, y_generated], dim=0)"
   ]
  },
  {
   "cell_type": "code",
   "execution_count": null,
   "metadata": {},
   "outputs": [],
   "source": [
    "# Plot augmented class distribution\n",
    "plot_class_distribution(y_augmented, \"Class Distribution After Augmentation\")"
   ]
  },
  {
   "cell_type": "code",
   "execution_count": null,
   "metadata": {},
   "outputs": [],
   "source": [
    "# Print final statistics\n",
    "final_mean, final_var, final_std = compute_statistics(x_augmented)\n",
    "print(f\"Final Mean: {final_mean}, Final Variance: {final_var}, Final Std Dev: {final_std}\")"
   ]
  },
  {
   "cell_type": "code",
   "execution_count": null,
   "metadata": {},
   "outputs": [],
   "source": [
    "import networkx as nx\n",
    "import matplotlib.pyplot as plt"
   ]
  },
  {
   "cell_type": "code",
   "execution_count": null,
   "metadata": {},
   "outputs": [],
   "source": [
    "def plot_graph(node_features, edge_index, labels):\n",
    "    G = nx.DiGraph()\n",
    "    for i in range(node_features.shape[0]):\n",
    "        G.add_node(i, features=node_features[i].detach().numpy(), label=labels[i].item())\n",
    "    for from_node, to_node in edge_index.T:\n",
    "        G.add_edge(from_node.item(), to_node.item())\n",
    "    color_map = ['red' if G.nodes[node]['label'] == 1 else 'blue' for node in G.nodes()]\n",
    "    plt.figure(figsize=(12, 8))\n",
    "    pos = nx.spring_layout(G)\n",
    "    nx.draw(G, pos, with_labels=True, node_color=color_map, node_size=100, font_size=8, font_color='white', alpha=0.8)\n",
    "    plt.title(\"Graph Dataset Visualization\")\n",
    "    plt.show()"
   ]
  },
  {
   "cell_type": "code",
   "execution_count": null,
   "metadata": {},
   "outputs": [],
   "source": [
    "# Call the function with your graph data\n",
    "plot_graph(node_features, edge_index, labels)"
   ]
  }
 ],
 "metadata": {
  "kernelspec": {
   "display_name": "Python3",
   "language": "python",
   "name": "python3"
  },
  "language_info": {
   "codemirror_mode": {
    "name": "ipython",
    "version": 3
   },
   "file_extension": ".py",
   "mimetype": "text/x-python",
   "name": "python",
   "nbconvert_exporter": "python",
   "pygments_lexer": "ipython3",
   "version": "3.6.9"
  }
 },
 "nbformat": 4,
 "nbformat_minor": 2
}
