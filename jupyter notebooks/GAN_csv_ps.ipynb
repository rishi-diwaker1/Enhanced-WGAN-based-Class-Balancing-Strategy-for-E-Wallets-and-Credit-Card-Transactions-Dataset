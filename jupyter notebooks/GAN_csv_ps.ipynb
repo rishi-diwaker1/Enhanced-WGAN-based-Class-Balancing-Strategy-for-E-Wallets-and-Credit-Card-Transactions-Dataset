{
 "cells": [
  {
   "cell_type": "code",
   "execution_count": 1,
   "metadata": {},
   "outputs": [
    {
     "name": "stderr",
     "output_type": "stream",
     "text": [
      "/home/girishkk/.local/lib/python3.6/site-packages/tqdm/auto.py:22: TqdmWarning: IProgress not found. Please update jupyter and ipywidgets. See https://ipywidgets.readthedocs.io/en/stable/user_install.html\n",
      "  from .autonotebook import tqdm as notebook_tqdm\n"
     ]
    }
   ],
   "source": [
    "import pandas as pd\n",
    "import torch\n",
    "import numpy as np\n",
    "from sklearn import preprocessing\n",
    "import matplotlib.pyplot as plt\n",
    "import torch.nn as nn\n",
    "import torch.optim as optim"
   ]
  },
  {
   "cell_type": "code",
   "execution_count": 2,
   "metadata": {},
   "outputs": [],
   "source": [
    "# Step 1: Data Preprocessing and Label Encoding\n",
    "def df_label_encoder(df, columns):\n",
    "    le = preprocessing.LabelEncoder()\n",
    "    for col in columns:\n",
    "        df[col] = le.fit_transform(df[col].astype(str))\n",
    "    return df"
   ]
  },
  {
   "cell_type": "code",
   "execution_count": 3,
   "metadata": {},
   "outputs": [],
   "source": [
    "# Step 2: Preprocess the dataset (directly without graph conversion)\n",
    "def preprocess(df):\n",
    "    # Encode categorical columns\n",
    "    df = df_label_encoder(df, ['type', 'nameOrig', 'nameDest'])\n",
    "\n",
    "    # Normalize numeric columns\n",
    "    df['amount'] = (df['amount'] - df['amount'].min()) / (df['amount'].max() - df['amount'].min())\n",
    "    df['oldbalanceOrg'] = (df['oldbalanceOrg'] - df['oldbalanceOrg'].min()) / (df['oldbalanceOrg'].max() - df['oldbalanceOrg'].min())\n",
    "    df['newbalanceOrig'] = (df['newbalanceOrig'] - df['newbalanceOrig'].min()) / (df['newbalanceOrig'].max() - df['newbalanceOrig'].min())\n",
    "    df['oldbalanceDest'] = (df['oldbalanceDest'] - df['oldbalanceDest'].min()) / (df['oldbalanceDest'].max() - df['oldbalanceDest'].min())\n",
    "    df['newbalanceDest'] = (df['newbalanceDest'] - df['newbalanceDest'].min()) / (df['newbalanceDest'].max() - df['newbalanceDest'].min())\n",
    "\n",
    "    # Extract features\n",
    "    features = df[['amount', 'oldbalanceOrg', 'newbalanceOrig', 'oldbalanceDest', 'newbalanceDest', 'type']].values\n",
    "\n",
    "    # Labels (0 for non-fraud, 1 for fraud)\n",
    "    labels = df['isFraud'].values\n",
    "\n",
    "    return torch.tensor(features, dtype=torch.float), torch.tensor(labels, dtype=torch.long)"
   ]
  },
  {
   "cell_type": "code",
   "execution_count": 4,
   "metadata": {},
   "outputs": [],
   "source": [
    "# Load dataset and preprocess\n",
    "df = pd.read_csv('paysim/paysim.csv')  # Update with your .csv file path\n",
    "features, labels = preprocess(df)"
   ]
  },
  {
   "cell_type": "code",
   "execution_count": 5,
   "metadata": {},
   "outputs": [],
   "source": [
    "# Function to plot class distribution\n",
    "def plot_class_distribution(y_data, title):\n",
    "    classes, counts = torch.unique(y_data, return_counts=True)\n",
    "    plt.bar(classes.numpy(), counts.numpy())\n",
    "    plt.title(title)\n",
    "    plt.xticks([0, 1], ['Non-Fraud', 'Fraud'])\n",
    "    plt.show()"
   ]
  },
  {
   "cell_type": "code",
   "execution_count": 6,
   "metadata": {},
   "outputs": [
    {
     "data": {
      "image/png": "[encoded data removed]",
      "text/plain": [
       "<Figure size 432x288 with 1 Axes>"
      ]
     },
     "metadata": {
      "needs_background": "light"
     },
     "output_type": "display_data"
    }
   ],
   "source": [
    "# Plot initial class distribution\n",
    "plot_class_distribution(labels, \"Class Distribution Before Augmentation - PaySim Dataset\")"
   ]
  },
  {
   "cell_type": "code",
   "execution_count": 7,
   "metadata": {},
   "outputs": [],
   "source": [
    "# Define GAN components\n",
    "class Generator(nn.Module):\n",
    "    def __init__(self, input_size, hidden_size, output_size):\n",
    "        super(Generator, self).__init__()\n",
    "        self.fc1 = nn.Linear(input_size, hidden_size)\n",
    "        self.fc2 = nn.Linear(hidden_size, output_size)\n",
    "\n",
    "    def forward(self, z):\n",
    "        z = torch.relu(self.fc1(z))\n",
    "        return torch.sigmoid(self.fc2(z))"
   ]
  },
  {
   "cell_type": "code",
   "execution_count": 8,
   "metadata": {},
   "outputs": [],
   "source": [
    "class Discriminator(nn.Module):\n",
    "    def __init__(self, input_size, hidden_size):\n",
    "        super(Discriminator, self).__init__()\n",
    "        self.fc1 = nn.Linear(input_size, hidden_size)\n",
    "        self.fc2 = nn.Linear(hidden_size, 1)\n",
    "\n",
    "    def forward(self, x):\n",
    "        x = torch.relu(self.fc1(x))\n",
    "        return torch.sigmoid(self.fc2(x))"
   ]
  },
  {
   "cell_type": "code",
   "execution_count": 9,
   "metadata": {},
   "outputs": [],
   "source": [
    "# GAN parameters\n",
    "input_size = features.shape[1]  # Number of features\n",
    "hidden_size = 128\n",
    "output_size = input_size  # Output size matches input for features\n",
    "latent_size = 64"
   ]
  },
  {
   "cell_type": "code",
   "execution_count": 10,
   "metadata": {},
   "outputs": [],
   "source": [
    "# Initialize GAN components\n",
    "generator = Generator(latent_size, hidden_size, output_size)\n",
    "discriminator = Discriminator(input_size, hidden_size)"
   ]
  },
  {
   "cell_type": "code",
   "execution_count": 11,
   "metadata": {},
   "outputs": [],
   "source": [
    "# Optimizers\n",
    "optimizer_g = optim.Adam(generator.parameters(), lr=0.001)\n",
    "optimizer_d = optim.Adam(discriminator.parameters(), lr=0.001)\n",
    "loss_fn = nn.BCELoss()"
   ]
  },
  {
   "cell_type": "code",
   "execution_count": 12,
   "metadata": {},
   "outputs": [],
   "source": [
    "# Function to compute statistics: mean, variance, and standard deviation\n",
    "def compute_statistics(features):\n",
    "    mean = torch.mean(features, dim=0)\n",
    "    var = torch.var(features, dim=0)\n",
    "    std = torch.std(features, dim=0)\n",
    "    return mean, var, std"
   ]
  },
  {
   "cell_type": "code",
   "execution_count": 13,
   "metadata": {},
   "outputs": [
    {
     "name": "stdout",
     "output_type": "stream",
     "text": [
      "Initial Mean: tensor([0.0019, 0.0140, 0.0172, 0.0031, 0.0034, 1.7141]), Initial Variance: tensor([4.2668e-05, 2.3496e-03, 3.4775e-03, 9.1161e-05, 1.0641e-04, 1.8228e+00]), Initial Std Dev: tensor([0.0065, 0.0485, 0.0590, 0.0095, 0.0103, 1.3501])\n"
     ]
    }
   ],
   "source": [
    "# Print initial statistics\n",
    "initial_mean, initial_var, initial_std = compute_statistics(features)\n",
    "print(f\"Initial Mean: {initial_mean}, Initial Variance: {initial_var}, Initial Std Dev: {initial_std}\")"
   ]
  },
  {
   "cell_type": "code",
   "execution_count": 14,
   "metadata": {},
   "outputs": [],
   "source": [
    "num_epochs = 10\n",
    "target_minority_class = torch.sum(labels == 0)  # We want to match the majority class count\n",
    "real_data = features[labels == 1]  # Fraud samples (minority class)"
   ]
  },
  {
   "cell_type": "code",
   "execution_count": 15,
   "metadata": {},
   "outputs": [],
   "source": [
    "def compute_r_squared(real_data, generated_data):\n",
    "    real_mean = torch.mean(real_data, dim=0)\n",
    "\n",
    "    # Sum of squared residuals (SSR)\n",
    "    ssr = torch.sum((real_data - generated_data) ** 2)\n",
    "\n",
    "    # Total sum of squares (SST)\n",
    "    sst = torch.sum((real_data - real_mean) ** 2)\n",
    "\n",
    "    # R² calculation\n",
    "    r_squared = 1 - (ssr / sst)\n",
    "    return r_squared.item()"
   ]
  },
  {
   "cell_type": "code",
   "execution_count": 16,
   "metadata": {},
   "outputs": [
    {
     "name": "stdout",
     "output_type": "stream",
     "text": [
      "Epoch [0/10], Loss D: 1.3347734212875366, Loss G: 0.6180769205093384, R²: -2.316431999206543\n",
      "Epoch [1/10], Loss D: 1.3209400177001953, Loss G: 0.6198679804801941, R²: -2.294131278991699\n",
      "Epoch [2/10], Loss D: 1.3076952695846558, Loss G: 0.6218376159667969, R²: -2.2741758823394775\n",
      "Epoch [3/10], Loss D: 1.2949329614639282, Loss G: 0.6239277124404907, R²: -2.252680778503418\n",
      "Epoch [4/10], Loss D: 1.2828624248504639, Loss G: 0.6259090304374695, R²: -2.236121892929077\n",
      "Epoch [5/10], Loss D: 1.2711207866668701, Loss G: 0.6280781626701355, R²: -2.2191410064697266\n",
      "Epoch [6/10], Loss D: 1.2599047422409058, Loss G: 0.6302530169487, R²: -2.2000796794891357\n",
      "Epoch [7/10], Loss D: 1.24924898147583, Loss G: 0.6323675513267517, R²: -2.179013252258301\n",
      "Epoch [8/10], Loss D: 1.2389155626296997, Loss G: 0.6346189379692078, R²: -2.1609833240509033\n",
      "Epoch [9/10], Loss D: 1.229106068611145, Loss G: 0.636805534362793, R²: -2.141470432281494\n"
     ]
    }
   ],
   "source": [
    "for epoch in range(num_epochs):\n",
    "    # Update current minority count during each epoch to reflect balancing progress\n",
    "    current_minority_count = torch.sum(labels == 1)\n",
    "    if current_minority_count >= target_minority_class:\n",
    "        break  # Stop training when the minority class is balanced\n",
    "\n",
    "    # Sample noise for generator input\n",
    "    z = torch.randn(real_data.size(0), latent_size)\n",
    "\n",
    "    # Generate fake data\n",
    "    fake_data = generator(z)\n",
    "\n",
    "    # Train Discriminator\n",
    "    d_real = discriminator(real_data)\n",
    "    d_fake = discriminator(fake_data.detach())\n",
    "    loss_d = loss_fn(d_real, torch.ones_like(d_real)) + loss_fn(d_fake, torch.zeros_like(d_fake))\n",
    "    optimizer_d.zero_grad()\n",
    "    loss_d.backward()\n",
    "    optimizer_d.step()\n",
    "\n",
    "    # Train Generator\n",
    "    d_fake = discriminator(fake_data)\n",
    "    loss_g = loss_fn(d_fake, torch.ones_like(d_fake))\n",
    "    optimizer_g.zero_grad()\n",
    "    loss_g.backward()\n",
    "    optimizer_g.step()\n",
    "\n",
    "    # Calculate R² for real and generated data\n",
    "    r_squared = compute_r_squared(real_data, fake_data)\n",
    "    \n",
    "    if epoch % 1 == 0:\n",
    "        print(f'Epoch [{epoch}/{num_epochs}], Loss D: {loss_d.item()}, Loss G: {loss_g.item()}, R²: {r_squared}')\n",
    "\n",
    "    # Update labels and features based on newly generated samples (for example, appending new data)\n",
    "    labels = torch.cat((labels, torch.zeros(fake_data.size(0), dtype=torch.long)))\n",
    "    features = torch.cat((features, fake_data))"
   ]
  },
  {
   "cell_type": "code",
   "execution_count": 17,
   "metadata": {},
   "outputs": [],
   "source": [
    "# Generate enough samples to match the class distribution\n",
    "num_generated_samples = target_minority_class - current_minority_count\n",
    "generated_data = generator(torch.randn(num_generated_samples, latent_size))  # Generate samples\n",
    "y_generated = torch.ones(num_generated_samples, dtype=torch.long)  # Label these as fraudulent (minority class)"
   ]
  },
  {
   "cell_type": "code",
   "execution_count": 18,
   "metadata": {},
   "outputs": [],
   "source": [
    "# Combine generated data with the original data\n",
    "x_augmented = torch.cat([features, generated_data], dim=0)\n",
    "y_augmented = torch.cat([labels, y_generated], dim=0)"
   ]
  },
  {
   "cell_type": "code",
   "execution_count": 19,
   "metadata": {},
   "outputs": [
    {
     "data": {
      "image/png": "[encoded data removed]",
      "text/plain": [
       "<Figure size 432x288 with 1 Axes>"
      ]
     },
     "metadata": {
      "needs_background": "light"
     },
     "output_type": "display_data"
    }
   ],
   "source": [
    "# Plot augmented class distribution\n",
    "plot_class_distribution(y_augmented, \"Class Distribution After Augmentation - PaySim Dataset\")"
   ]
  },
  {
   "cell_type": "code",
   "execution_count": 20,
   "metadata": {},
   "outputs": [
    {
     "name": "stdout",
     "output_type": "stream",
     "text": [
      "Final Mean: tensor([0.2933, 0.1987, 0.1948, 0.2821, 0.2053, 1.1365],\n",
      "       grad_fn=<MeanBackward1>), Final Variance: tensor([0.0850, 0.0362, 0.0341, 0.0785, 0.0416, 1.2380],\n",
      "       grad_fn=<VarBackward0>), Final Std Dev: tensor([0.2916, 0.1902, 0.1846, 0.2803, 0.2040, 1.1127],\n",
      "       grad_fn=<StdBackward0>)\n"
     ]
    }
   ],
   "source": [
    "# Print final statistics\n",
    "final_mean, final_var, final_std = compute_statistics(x_augmented)\n",
    "print(f\"Final Mean: {final_mean}, Final Variance: {final_var}, Final Std Dev: {final_std}\")"
   ]
  },
  {
   "cell_type": "code",
   "execution_count": 21,
   "metadata": {},
   "outputs": [
    {
     "name": "stdout",
     "output_type": "stream",
     "text": [
      "Final R² between real and generated fraud samples: -2.141470432281494\n"
     ]
    }
   ],
   "source": [
    "final_r_squared = compute_r_squared(real_data, fake_data)\n",
    "print(f'Final R² between real and generated fraud samples: {final_r_squared}')"
   ]
  }
 ],
 "metadata": {
  "kernelspec": {
   "display_name": "Python3",
   "language": "python",
   "name": "python3"
  },
  "language_info": {
   "codemirror_mode": {
    "name": "ipython",
    "version": 3
   },
   "file_extension": ".py",
   "mimetype": "text/x-python",
   "name": "python",
   "nbconvert_exporter": "python",
   "pygments_lexer": "ipython3",
   "version": "3.6.9"
  }
 },
 "nbformat": 4,
 "nbformat_minor": 2
}
