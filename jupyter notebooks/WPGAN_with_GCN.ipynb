{
 "cells": [
  {
   "cell_type": "code",
   "execution_count": 1,
   "metadata": {},
   "outputs": [
    {
     "name": "stderr",
     "output_type": "stream",
     "text": [
      "/home/girishkk/.local/lib/python3.6/site-packages/tqdm/auto.py:22: TqdmWarning: IProgress not found. Please update jupyter and ipywidgets. See https://ipywidgets.readthedocs.io/en/stable/user_install.html\n",
      "  from .autonotebook import tqdm as notebook_tqdm\n"
     ]
    }
   ],
   "source": [
    "import pandas as pd\n",
    "import torch\n",
    "import numpy as np\n",
    "from sklearn import preprocessing\n",
    "import matplotlib.pyplot as plt\n",
    "import torch.nn as nn\n",
    "import torch.optim as optim"
   ]
  },
  {
   "cell_type": "code",
   "execution_count": 2,
   "metadata": {},
   "outputs": [],
   "source": [
    "# Step 1: Data Preprocessing and Label Encoding\n",
    "def df_label_encoder(df, columns):\n",
    "    le = preprocessing.LabelEncoder()\n",
    "    for col in columns:\n",
    "        df[col] = le.fit_transform(df[col].astype(str))\n",
    "    return df"
   ]
  },
  {
   "cell_type": "code",
   "execution_count": 3,
   "metadata": {},
   "outputs": [],
   "source": [
    "# Preprocess the dataset and extract features for node creation\n",
    "def preprocess(df):\n",
    "    df = df_label_encoder(df, ['merchant', 'category', 'city', 'state', 'job'])\n",
    "    df['amt'] = (df['amt'] - df['amt'].min()) / (df['amt'].max() - df['amt'].min())\n",
    "    df['node_from'] = df['cc_num'].astype(str)\n",
    "    df['node_to'] = df['merchant'].astype(str)\n",
    "    df = df.sort_values(by=['node_from'])\n",
    "    node_list = pd.concat([df['node_from'], df['node_to']]).unique()\n",
    "    return df, node_list"
   ]
  },
  {
   "cell_type": "code",
   "execution_count": 4,
   "metadata": {},
   "outputs": [],
   "source": [
    "def create_graph_data(df, node_list):\n",
    "    # Create a mapping of node names to indices\n",
    "    node_map = {node: idx for idx, node in enumerate(node_list)}\n",
    "    \n",
    "    # Convert edges to indices\n",
    "    edge_index = np.array([\n",
    "        [node_map[from_node], node_map[to_node]] for from_node, to_node in zip(df['node_from'], df['node_to'])\n",
    "    ], dtype=np.int64).T  # Transpose to get the shape [2, num_edges]\n",
    "\n",
    "    # Node features (converted to numpy array or tensor)\n",
    "    node_features = torch.tensor(df[['amt', 'category', 'city', 'state']].values, dtype=torch.float)\n",
    "\n",
    "    # Labels (0 for non-fraud, 1 for fraud)\n",
    "    labels = torch.tensor(df['is_fraud'].values, dtype=torch.long)\n",
    "\n",
    "    return node_features, edge_index, labels, node_map\n"
   ]
  },
  {
   "cell_type": "code",
   "execution_count": 5,
   "metadata": {},
   "outputs": [],
   "source": [
    "# Load dataset and preprocess\n",
    "df = pd.read_csv('creditcard/fraudTrain.csv')  # Update with your .csv file path\n",
    "df, node_list = preprocess(df)"
   ]
  },
  {
   "cell_type": "code",
   "execution_count": 6,
   "metadata": {},
   "outputs": [],
   "source": [
    "# Create the graph dataset\n",
    "node_features, edge_index, labels, node_map = create_graph_data(df, node_list)"
   ]
  },
  {
   "cell_type": "code",
   "execution_count": 7,
   "metadata": {},
   "outputs": [],
   "source": [
    "# Plot class distribution\n",
    "def plot_class_distribution(y_data, title):\n",
    "    classes, counts = torch.unique(y_data, return_counts=True)\n",
    "    plt.bar(classes.numpy(), counts.numpy())\n",
    "    plt.title(title)\n",
    "    plt.xticks([0, 1], ['Non-Fraud', 'Fraud'])\n",
    "    plt.show()"
   ]
  },
  {
   "cell_type": "code",
   "execution_count": 8,
   "metadata": {},
   "outputs": [
    {
     "data": {
      "image/png": "[encoded data removed]",
      "text/plain": [
       "<Figure size 432x288 with 1 Axes>"
      ]
     },
     "metadata": {
      "needs_background": "light"
     },
     "output_type": "display_data"
    }
   ],
   "source": [
    "# Plot initial class distribution\n",
    "plot_class_distribution(labels, \"Class Distribution Before Augmentation\")"
   ]
  },
  {
   "cell_type": "code",
   "execution_count": 9,
   "metadata": {},
   "outputs": [],
   "source": [
    "def build_adjacency_matrix(edge_index, num_nodes):\n",
    "    \"\"\"Build a sparse adjacency matrix from edge indices.\"\"\"\n",
    "    # Convert edge_index to long tensors\n",
    "    row_indices = edge_index[0].long()  # Ensure indices are of type long\n",
    "    col_indices = edge_index[1].long()\n",
    "\n",
    "    # Create a sparse adjacency matrix\n",
    "    adj = torch.sparse_coo_tensor(\n",
    "        torch.stack([row_indices, col_indices]),  # Indices of non-zero elements\n",
    "        torch.ones(row_indices.size(0)),  # Values (unweighted)\n",
    "        (num_nodes, num_nodes)  # Shape of the matrix\n",
    "    )\n",
    "\n",
    "    return adj"
   ]
  },
  {
   "cell_type": "code",
   "execution_count": 10,
   "metadata": {},
   "outputs": [],
   "source": [
    "def expand_adjacency_matrix(adj, new_nodes_count):\n",
    "    \"\"\"\n",
    "    Expands the adjacency matrix to accommodate new nodes by adding rows and columns for the new nodes.\n",
    "    Assumes no initial edges for the new nodes, i.e., they start with no connections.\n",
    "    \"\"\"\n",
    "    num_existing_nodes = adj.shape[0]\n",
    "    new_size = num_existing_nodes + new_nodes_count\n",
    "    \n",
    "    # Expand the adjacency matrix with zeros for new nodes (initially, no edges for new nodes)\n",
    "    expanded_adj = torch.zeros(new_size, new_size)\n",
    "    \n",
    "    # Copy the old adjacency matrix to the top-left corner of the expanded one\n",
    "    expanded_adj[:num_existing_nodes, :num_existing_nodes] = adj\n",
    "    \n",
    "    return expanded_adj"
   ]
  },
  {
   "cell_type": "code",
   "execution_count": 11,
   "metadata": {},
   "outputs": [],
   "source": [
    "import torch\n",
    "\n",
    "def normalize_adj(adj):\n",
    "    # Check if adj is a sparse tensor\n",
    "    if adj.is_sparse:\n",
    "        # Convert sparse tensor to dense\n",
    "        adj = adj.to_dense()\n",
    "    \n",
    "    # Calculate the degree of each node\n",
    "    degree = adj.sum(dim=1)  # Shape: (num_nodes,)\n",
    "    degree_inv_sqrt = degree.pow(-0.5)  # Shape: (num_nodes,)\n",
    "    degree_inv_sqrt[degree_inv_sqrt == float('inf')] = 0  # Handle division by zero\n",
    "\n",
    "    # Normalize the adjacency matrix\n",
    "    degree_inv_sqrt = degree_inv_sqrt.view(-1, 1)  # Reshape to (num_nodes, 1)\n",
    "    adj_normalized = adj.mul(degree_inv_sqrt).mul(degree_inv_sqrt.t())  # Shape: (num_nodes, num_nodes)\n",
    "\n",
    "    return adj_normalized"
   ]
  },
  {
   "cell_type": "code",
   "execution_count": 12,
   "metadata": {},
   "outputs": [],
   "source": [
    "# Implement GCN layer manually\n",
    "class SimpleGCNLayer(nn.Module):\n",
    "    def __init__(self, input_size, output_size):\n",
    "        super(SimpleGCNLayer, self).__init__()\n",
    "        self.fc = nn.Linear(input_size, output_size)\n",
    "    \n",
    "    def forward(self, x, adj):\n",
    "        x = torch.relu(self.fc(adj @ x))  # Graph convolution using dense adjacency matrix\n",
    "        return x"
   ]
  },
  {
   "cell_type": "code",
   "execution_count": 13,
   "metadata": {},
   "outputs": [],
   "source": [
    "class GCNLayer(nn.Module):\n",
    "    def __init__(self, in_features, out_features):\n",
    "        super(GCNLayer, self).__init__()\n",
    "        self.fc = nn.Linear(in_features, out_features)\n",
    "\n",
    "    def forward(self, x, adj):\n",
    "        # Graph convolution: x' = ReLU(Adjacency_matrix * x * Weights)\n",
    "        x = torch.matmul(adj, x)  # Multiply adjacency matrix by input feature matrix\n",
    "        x = self.fc(x)  # Apply the linear transformation (weights)\n",
    "        return torch.relu(x)  # Apply ReLU activation\n"
   ]
  },
  {
   "cell_type": "code",
   "execution_count": 14,
   "metadata": {},
   "outputs": [],
   "source": [
    "class WGANGeneratorWithManualGCN(nn.Module):\n",
    "    def __init__(self, latent_size, hidden_size, output_size, num_nodes, edge_index):\n",
    "        super(WGANGeneratorWithManualGCN, self).__init__()\n",
    "        self.latent_size = latent_size\n",
    "        self.fc1 = nn.Linear(latent_size, hidden_size)\n",
    "        self.gcn1 = GCNLayer(hidden_size, hidden_size)  # GCN Layer 1\n",
    "        self.gcn2 = GCNLayer(hidden_size, hidden_size)  # GCN Layer 2\n",
    "        self.fc2 = nn.Linear(hidden_size, output_size)\n",
    "        self.adj = self.build_sparse_adjacency_matrix(edge_index, num_nodes)  # Build adjacency matrix once in the constructor\n",
    "        self.num_nodes = num_nodes  # Total number of nodes in the graph\n",
    "\n",
    "    def forward(self, z):\n",
    "        # Pass through the first fully connected layer\n",
    "        z = torch.relu(self.fc1(z))\n",
    "\n",
    "        # Use the precomputed adjacency matrix\n",
    "        adj = self.adj\n",
    "        z = z[:self.num_nodes]  # Adjust size of z to match the number of nodes\n",
    "        \n",
    "        # Pass through GCN layers\n",
    "        z = self.gcn1(z, adj)  # Graph convolution using the adjacency matrix\n",
    "        z = self.gcn2(z, adj)\n",
    "        \n",
    "        # Final output layer\n",
    "        return self.fc2(z)\n",
    "\n",
    "    def build_sparse_adjacency_matrix(self, edge_index, num_nodes):\n",
    "        # Ensure edge_index is a LongTensor\n",
    "        if isinstance(edge_index, torch.Tensor):\n",
    "            edge_index = edge_index.long()\n",
    "        else:\n",
    "            raise ValueError(\"edge_index should be a torch.Tensor\")\n",
    "\n",
    "        # Create the sparse adjacency matrix\n",
    "        values = torch.ones(edge_index.shape[1], dtype=torch.float)  # Use ones for unweighted edges\n",
    "        adj_sparse = torch.sparse_coo_tensor(edge_index, values, (num_nodes, num_nodes))\n",
    "        return adj_sparse\n",
    "\n",
    "    def normalize_sparse_adj(self, adj):\n",
    "        # Compute degree matrix\n",
    "        degree = torch.sparse.sum(adj, dim=1).to_dense()\n",
    "        degree_inv_sqrt = torch.pow(degree, -0.5)\n",
    "        degree_inv_sqrt[torch.isinf(degree_inv_sqrt)] = 0  # Avoid division by zero\n",
    "\n",
    "        # Apply normalization: D^(-1/2) * A * D^(-1/2)\n",
    "        adj_normalized = adj.coalesce()  # Ensures indices are sorted, necessary for sparse tensor operations\n",
    "        adj_normalized = adj_normalized * degree_inv_sqrt.unsqueeze(0) * degree_inv_sqrt.unsqueeze(1)\n",
    "        return adj_normalized"
   ]
  },
  {
   "cell_type": "code",
   "execution_count": 15,
   "metadata": {},
   "outputs": [],
   "source": [
    "class WGANDiscriminator(nn.Module):\n",
    "    def __init__(self, input_size=4, hidden_size=64):\n",
    "        super(WGANDiscriminator, self).__init__()\n",
    "        self.fc1 = nn.Linear(input_size, hidden_size)  # Input layer expects 4 features\n",
    "        self.fc2 = nn.Linear(hidden_size, hidden_size)  # Hidden layer\n",
    "        self.fc3 = nn.Linear(hidden_size, 1)  # Output layer produces a single output\n",
    "\n",
    "    def forward(self, x):\n",
    "        x = torch.relu(self.fc1(x))  # First fully connected layer\n",
    "        x = torch.relu(self.fc2(x))  # Second fully connected layer\n",
    "        x = self.fc3(x)  # Output\n",
    "        return x"
   ]
  },
  {
   "cell_type": "code",
   "execution_count": 16,
   "metadata": {},
   "outputs": [],
   "source": [
    "latent_size = 100\n",
    "hidden_size = 64\n",
    "input_size = 1676\n",
    "output_size = 1676\n",
    "num_nodes = 1676"
   ]
  },
  {
   "cell_type": "code",
   "execution_count": 17,
   "metadata": {},
   "outputs": [],
   "source": [
    "def dense_to_edge_index(adj):\n",
    "    # Get the indices of non-zero elements (i.e., the edges)\n",
    "    edge_index = adj.nonzero(as_tuple=False).t()\n",
    "    return edge_index"
   ]
  },
  {
   "cell_type": "code",
   "execution_count": 18,
   "metadata": {},
   "outputs": [],
   "source": [
    "adj_dense = torch.rand(num_nodes, num_nodes)  # Random dense adjacency matrix for demonstration\n",
    "adj_dense[adj_dense < 0.5] = 0  # Making it sparse by zeroing some elements\n",
    "adj_dense = adj_dense > 0  # Convert to binary (0s and 1s)\n",
    "\n",
    "# Convert to edge index\n",
    "edge_index = dense_to_edge_index(adj_dense)"
   ]
  },
  {
   "cell_type": "code",
   "execution_count": 19,
   "metadata": {},
   "outputs": [],
   "source": [
    "# Build and normalize adjacency matrix\n",
    "adj = build_adjacency_matrix(edge_index, num_nodes)\n",
    "adj = normalize_adj(adj)"
   ]
  },
  {
   "cell_type": "code",
   "execution_count": 20,
   "metadata": {},
   "outputs": [],
   "source": [
    "adj = dense_to_edge_index(adj)"
   ]
  },
  {
   "cell_type": "code",
   "execution_count": 21,
   "metadata": {},
   "outputs": [
    {
     "name": "stdout",
     "output_type": "stream",
     "text": [
      "Shape of adj: torch.Size([2, 1404899])\n"
     ]
    }
   ],
   "source": [
    "# Assuming adj is your adjacency matrix tensor\n",
    "print(f\"Shape of adj: {adj.shape}\")"
   ]
  },
  {
   "cell_type": "code",
   "execution_count": 22,
   "metadata": {},
   "outputs": [],
   "source": [
    "generator = WGANGeneratorWithManualGCN(latent_size, hidden_size, output_size, num_nodes, edge_index)\n",
    "discriminator = WGANDiscriminator(input_size, hidden_size)"
   ]
  },
  {
   "cell_type": "code",
   "execution_count": 23,
   "metadata": {},
   "outputs": [],
   "source": [
    "# Optimizers\n",
    "optimizer_g = optim.Adam(generator.parameters(), lr=0.0001)\n",
    "optimizer_d = optim.Adam(discriminator.parameters(), lr=0.0001)"
   ]
  },
  {
   "cell_type": "code",
   "execution_count": 24,
   "metadata": {},
   "outputs": [],
   "source": [
    "# Function to compute statistics: mean, variance, and standard deviation\n",
    "def compute_statistics(features):\n",
    "    mean = torch.mean(features, dim=0)\n",
    "    var = torch.var(features, dim=0)\n",
    "    std = torch.std(features, dim=0)\n",
    "    return mean, var, std"
   ]
  },
  {
   "cell_type": "code",
   "execution_count": 25,
   "metadata": {},
   "outputs": [
    {
     "name": "stdout",
     "output_type": "stream",
     "text": [
      "Initial Mean: tensor([2.3957e-03, 6.2278e+00, 4.4526e+02, 2.6677e+01]), Initial Variance: tensor([3.0670e-05, 1.5315e+01, 6.6874e+04, 2.0538e+02]), Initial Std Dev: tensor([5.5381e-03, 3.9134e+00, 2.5860e+02, 1.4331e+01])\n"
     ]
    }
   ],
   "source": [
    "# Print initial statistics\n",
    "initial_mean, initial_var, initial_std = compute_statistics(node_features)\n",
    "print(f\"Initial Mean: {initial_mean}, Initial Variance: {initial_var}, Initial Std Dev: {initial_std}\")"
   ]
  },
  {
   "cell_type": "code",
   "execution_count": 26,
   "metadata": {},
   "outputs": [],
   "source": [
    "# Training with early stopping\n",
    "num_epochs = 1\n",
    "target_minority_class = torch.sum(labels == 0)\n",
    "real_data = node_features[labels == 1]"
   ]
  },
  {
   "cell_type": "code",
   "execution_count": 27,
   "metadata": {},
   "outputs": [],
   "source": [
    "# Early stopping parameters\n",
    "best_loss_d = float('inf')\n",
    "patience = 1\n",
    "trigger_times = 0"
   ]
  },
  {
   "cell_type": "code",
   "execution_count": 28,
   "metadata": {},
   "outputs": [
    {
     "ename": "NameError",
     "evalue": "name 'fake_data' is not defined",
     "output_type": "error",
     "traceback": [
      "\u001b[0;31m---------------------------------------------------------------------------\u001b[0m",
      "\u001b[0;31mNameError\u001b[0m                                 Traceback (most recent call last)",
      "\u001b[0;32m<ipython-input-28-9c2597e3074f>\u001b[0m in \u001b[0;36m<module>\u001b[0;34m\u001b[0m\n\u001b[1;32m      1\u001b[0m \u001b[0;31m# Expand the adjacency matrix to accommodate the new fake nodes\u001b[0m\u001b[0;34m\u001b[0m\u001b[0;34m\u001b[0m\u001b[0;34m\u001b[0m\u001b[0m\n\u001b[0;32m----> 2\u001b[0;31m \u001b[0madj\u001b[0m \u001b[0;34m=\u001b[0m \u001b[0mexpand_adjacency_matrix\u001b[0m\u001b[0;34m(\u001b[0m\u001b[0madj\u001b[0m\u001b[0;34m,\u001b[0m \u001b[0mfake_data\u001b[0m\u001b[0;34m.\u001b[0m\u001b[0msize\u001b[0m\u001b[0;34m(\u001b[0m\u001b[0;36m0\u001b[0m\u001b[0;34m)\u001b[0m\u001b[0;34m)\u001b[0m\u001b[0;34m\u001b[0m\u001b[0;34m\u001b[0m\u001b[0m\n\u001b[0m\u001b[1;32m      3\u001b[0m \u001b[0;34m\u001b[0m\u001b[0m\n\u001b[1;32m      4\u001b[0m \u001b[0;31m# Concatenate the new fake data to node_features\u001b[0m\u001b[0;34m\u001b[0m\u001b[0;34m\u001b[0m\u001b[0;34m\u001b[0m\u001b[0m\n\u001b[1;32m      5\u001b[0m \u001b[0mlabels\u001b[0m \u001b[0;34m=\u001b[0m \u001b[0mtorch\u001b[0m\u001b[0;34m.\u001b[0m\u001b[0mcat\u001b[0m\u001b[0;34m(\u001b[0m\u001b[0;34m(\u001b[0m\u001b[0mlabels\u001b[0m\u001b[0;34m,\u001b[0m \u001b[0mtorch\u001b[0m\u001b[0;34m.\u001b[0m\u001b[0mzeros\u001b[0m\u001b[0;34m(\u001b[0m\u001b[0mfake_data\u001b[0m\u001b[0;34m.\u001b[0m\u001b[0msize\u001b[0m\u001b[0;34m(\u001b[0m\u001b[0;36m0\u001b[0m\u001b[0;34m)\u001b[0m\u001b[0;34m,\u001b[0m \u001b[0mdtype\u001b[0m\u001b[0;34m=\u001b[0m\u001b[0mtorch\u001b[0m\u001b[0;34m.\u001b[0m\u001b[0mlong\u001b[0m\u001b[0;34m)\u001b[0m\u001b[0;34m)\u001b[0m\u001b[0;34m)\u001b[0m  \u001b[0;31m# Add labels for fake nodes\u001b[0m\u001b[0;34m\u001b[0m\u001b[0;34m\u001b[0m\u001b[0m\n",
      "\u001b[0;31mNameError\u001b[0m: name 'fake_data' is not defined"
     ]
    }
   ],
   "source": [
    "# Expand the adjacency matrix to accommodate the new fake nodes\n",
    "adj = expand_adjacency_matrix(adj, fake_data.size(0))\n",
    "\n",
    "# Concatenate the new fake data to node_features\n",
    "labels = torch.cat((labels, torch.zeros(fake_data.size(0), dtype=torch.long)))  # Add labels for fake nodes\n",
    "node_features = torch.cat((node_features, fake_data))\n",
    "\n",
    "# Debugging prints to check the updated adjacency matrix and node features\n",
    "print(f'Adjacency Matrix Shape after expansion: {adj.shape}')\n",
    "print(f'Node Features Shape after concatenation: {node_features.shape}')"
   ]
  },
  {
   "cell_type": "code",
   "execution_count": null,
   "metadata": {},
   "outputs": [],
   "source": [
    "for epoch in range(num_epochs):\n",
    "    current_minority_count = torch.sum(labels == 1)\n",
    "    if current_minority_count >= target_minority_class:\n",
    "        break\n",
    "\n",
    "    # Update the discriminator\n",
    "    for _ in range(1):\n",
    "        z = torch.randn(real_data.size(0), latent_size, dtype=torch.float)  # Ensure dtype is float\n",
    "        fake_data = generator(z)\n",
    "\n",
    "        optimizer_d.zero_grad()\n",
    "        print(f'Real Data Shape: {real_data.shape}')\n",
    "\n",
    "        d_real = discriminator(real_data)\n",
    "        print(\"Here\")\n",
    "        d_fake = discriminator(fake_data.detach())\n",
    "        loss_d = -torch.mean(d_real) + torch.mean(d_fake)\n",
    "        loss_d.backward()\n",
    "        optimizer_d.step()\n",
    "\n",
    "        # Clip weights\n",
    "        for p in discriminator.parameters():\n",
    "            p.data.clamp_(-0.01, 0.01)\n",
    "\n",
    "    # Update the generator\n",
    "    optimizer_g.zero_grad()\n",
    "    fake_data = generator(torch.randn(real_data.size(0), latent_size, dtype=torch.float))  # Ensure dtype is float\n",
    "    loss_g = -torch.mean(discriminator(fake_data))\n",
    "    loss_g.backward()\n",
    "    optimizer_g.step()\n",
    "\n",
    "    # Concatenate the new fake data\n",
    "    labels = torch.cat((labels, torch.zeros(fake_data.size(0), dtype=torch.long)))  # Ensure labels are torch.long\n",
    "    node_features = torch.cat((node_features, fake_data))\n",
    "\n",
    "    # Debugging prints to check the shape of adjacency matrix and node features\n",
    "    print(f'Adjacency Matrix Shape after expansion: {adj.shape}')\n",
    "    print(f'Node Features Shape after concatenation: {node_features.shape}')\n",
    "\n",
    "    # Check if adj and node_features have the same number of nodes\n",
    "    if adj.shape[0] != node_features.shape[0]:\n",
    "        print(\"Here\")\n",
    "        raise RuntimeError(f'Adjacency matrix shape {adj.shape} does not match node features shape {node_features.shape}')\n",
    "\n",
    "    # Early stopping check\n",
    "    if loss_d.item() < best_loss_d:\n",
    "        best_loss_d = loss_d.item()\n",
    "        trigger_times = 0\n",
    "    else:\n",
    "        trigger_times += 1\n",
    "\n",
    "    if trigger_times >= patience:\n",
    "        print(\"Early stopping triggered\")\n",
    "        break\n",
    "\n",
    "    if epoch % 1 == 0:\n",
    "        print(f'Epoch [{epoch}/{num_epochs}], Loss D: {loss_d.item()}, Loss G: {loss_g.item()}')"
   ]
  },
  {
   "cell_type": "code",
   "execution_count": null,
   "metadata": {},
   "outputs": [],
   "source": [
    "# Generate enough samples to match the class distribution\n",
    "num_generated_samples = target_minority_class - current_minority_count\n",
    "generated_data = generator(torch.randn(num_generated_samples, latent_size))\n",
    "y_generated = torch.ones(num_generated_samples, dtype=torch.long)"
   ]
  },
  {
   "cell_type": "code",
   "execution_count": null,
   "metadata": {},
   "outputs": [],
   "source": [
    "# Add R-squared calculation function\n",
    "def r_squared(real_data, generated_data):\n",
    "    # Mean of real data\n",
    "    real_mean = torch.mean(real_data, dim=0)\n",
    "    \n",
    "    # Total sum of squares (variance of the real data)\n",
    "    ss_tot = torch.sum((real_data - real_mean) ** 2)\n",
    "    \n",
    "    # Residual sum of squares (difference between real and generated data)\n",
    "    ss_res = torch.sum((real_data - generated_data) ** 2)\n",
    "    \n",
    "    # R-squared calculation\n",
    "    r2 = 1 - ss_res / ss_tot\n",
    "    return r2"
   ]
  },
  {
   "cell_type": "code",
   "execution_count": null,
   "metadata": {},
   "outputs": [],
   "source": [
    "# After augmentation, compute R-squared\n",
    "r2_score = r_squared(real_data, generated_data)"
   ]
  },
  {
   "cell_type": "code",
   "execution_count": null,
   "metadata": {},
   "outputs": [],
   "source": [
    "# Combine generated data with the original data\n",
    "x_augmented = torch.cat([node_features, generated_data], dim=0)\n",
    "y_augmented = torch.cat([labels, y_generated], dim=0)"
   ]
  },
  {
   "cell_type": "code",
   "execution_count": null,
   "metadata": {},
   "outputs": [],
   "source": [
    "# Plot augmented class distribution\n",
    "plot_class_distribution(y_augmented, \"Class Distribution After Augmentation\")"
   ]
  },
  {
   "cell_type": "code",
   "execution_count": null,
   "metadata": {},
   "outputs": [],
   "source": [
    "# Print final statistics\n",
    "final_mean, final_var, final_std = compute_statistics(x_augmented)\n",
    "print(f\"Final Mean: {final_mean}, Final Variance: {final_var}, Final Std Dev: {final_std}\")\n",
    "print(f\"Final R-squared: {r2_score.item()}\")"
   ]
  }
 ],
 "metadata": {
  "kernelspec": {
   "display_name": "Python3",
   "language": "python",
   "name": "python3"
  },
  "language_info": {
   "codemirror_mode": {
    "name": "ipython",
    "version": 3
   },
   "file_extension": ".py",
   "mimetype": "text/x-python",
   "name": "python",
   "nbconvert_exporter": "python",
   "pygments_lexer": "ipython3",
   "version": "3.6.9"
  }
 },
 "nbformat": 4,
 "nbformat_minor": 2
}
