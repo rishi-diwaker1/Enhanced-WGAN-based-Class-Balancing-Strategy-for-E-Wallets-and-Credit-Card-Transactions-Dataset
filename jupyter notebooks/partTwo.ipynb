{
 "cells": [
  {
   "cell_type": "code",
   "execution_count": 1,
   "metadata": {},
   "outputs": [
    {
     "name": "stderr",
     "output_type": "stream",
     "text": [
      "/home/girishkk/.local/lib/python3.6/site-packages/tqdm/auto.py:22: TqdmWarning: IProgress not found. Please update jupyter and ipywidgets. See https://ipywidgets.readthedocs.io/en/stable/user_install.html\n",
      "  from .autonotebook import tqdm as notebook_tqdm\n"
     ]
    }
   ],
   "source": [
    "import torch\n",
    "from torch.utils.data import DataLoader, TensorDataset\n",
    "import torch.nn as nn\n",
    "import torch.optim as optim\n",
    "import torch.nn.functional as F\n",
    "import matplotlib.pyplot as plt"
   ]
  },
  {
   "cell_type": "code",
   "execution_count": 2,
   "metadata": {},
   "outputs": [],
   "source": [
    "class GCNLayer(nn.Module):\n",
    "    def __init__(self, input_dim, output_dim):\n",
    "        super(GCNLayer, self).__init__()\n",
    "        self.weight = nn.Parameter(torch.randn(input_dim, output_dim))\n",
    "\n",
    "    def forward(self, node_features, edge_index):\n",
    "        # Create sparse adjacency matrix\n",
    "        num_nodes = node_features.size(0)\n",
    "        adj = torch.sparse_coo_tensor(edge_index, torch.ones(edge_index.shape[1]), (num_nodes, num_nodes))\n",
    "        \n",
    "        # Normalize the adjacency matrix\n",
    "        adj_sum = torch.sparse.sum(adj, dim=1).to_dense()\n",
    "        D_inv_sqrt = torch.diag(adj_sum ** -0.5)\n",
    "        norm_adj = torch.sparse.mm(D_inv_sqrt, torch.sparse.mm(adj, D_inv_sqrt))\n",
    "        \n",
    "        # Perform graph convolution\n",
    "        out = torch.sparse.mm(norm_adj, node_features @ self.weight)\n",
    "        return out"
   ]
  },
  {
   "cell_type": "code",
   "execution_count": 3,
   "metadata": {},
   "outputs": [],
   "source": [
    "# Step 2: Update WGAN Generator and Discriminator\n",
    "class WGANGenerator(nn.Module):\n",
    "    def __init__(self, input_size, hidden_size, output_size):\n",
    "        super(WGANGenerator, self).__init__()\n",
    "        self.gcn1 = GCNLayer(input_size, hidden_size)\n",
    "        self.fc = nn.Linear(hidden_size, output_size)\n",
    "\n",
    "    def forward(self, z, edge_index, node_features):\n",
    "        z = self.gcn1(node_features, edge_index)\n",
    "        z = F.relu(z)\n",
    "        return self.fc(z)"
   ]
  },
  {
   "cell_type": "code",
   "execution_count": 4,
   "metadata": {},
   "outputs": [],
   "source": [
    "class WGANDiscriminator(nn.Module):\n",
    "    def __init__(self, input_size, hidden_size):\n",
    "        super(WGANDiscriminator, self).__init__()\n",
    "        self.gcn1 = GCNLayer(input_size, hidden_size)\n",
    "        self.fc = nn.Linear(hidden_size, 1)\n",
    "\n",
    "    def forward(self, x, edge_index):\n",
    "        x = self.gcn1(x, edge_index)\n",
    "        x = F.relu(x)\n",
    "        return self.fc(x)"
   ]
  },
  {
   "cell_type": "code",
   "execution_count": 5,
   "metadata": {},
   "outputs": [],
   "source": [
    "# Load graph dataset\n",
    "node_features, edge_index, labels = torch.load('graph_dataset.pt')"
   ]
  },
  {
   "cell_type": "code",
   "execution_count": 6,
   "metadata": {},
   "outputs": [],
   "source": [
    "# WGAN parameters\n",
    "input_size = node_features.shape[1]\n",
    "hidden_size = 32\n",
    "output_size = input_size\n",
    "latent_size = 16"
   ]
  },
  {
   "cell_type": "code",
   "execution_count": 7,
   "metadata": {},
   "outputs": [],
   "source": [
    "# Initialize WGAN components\n",
    "generator = WGANGenerator(input_size, hidden_size, output_size)\n",
    "discriminator = WGANDiscriminator(input_size, hidden_size)\n",
    "\n",
    "device = torch.device(\"cuda\" if torch.cuda.is_available() else \"cpu\")\n",
    "generator = generator.to(device)\n",
    "discriminator = discriminator.to(device)\n",
    "node_features = node_features.to(device)"
   ]
  },
  {
   "cell_type": "code",
   "execution_count": 8,
   "metadata": {},
   "outputs": [],
   "source": [
    "# Optimizers\n",
    "optimizer_g = optim.Adam(generator.parameters(), lr=0.0001)\n",
    "optimizer_d = optim.Adam(discriminator.parameters(), lr=0.0001)"
   ]
  },
  {
   "cell_type": "code",
   "execution_count": 9,
   "metadata": {},
   "outputs": [],
   "source": [
    "# Function to compute statistics: mean, variance, and standard deviation\n",
    "def compute_statistics(features):\n",
    "    mean = torch.mean(features, dim=0)\n",
    "    var = torch.var(features, dim=0)\n",
    "    std = torch.std(features, dim=0)\n",
    "    return mean, var, std"
   ]
  },
  {
   "cell_type": "code",
   "execution_count": 10,
   "metadata": {},
   "outputs": [
    {
     "name": "stdout",
     "output_type": "stream",
     "text": [
      "Initial Mean: tensor([2.3957e-03, 6.2278e+00, 4.4526e+02, 2.6677e+01], device='cuda:0'), Initial Variance: tensor([3.0670e-05, 1.5315e+01, 6.6874e+04, 2.0538e+02], device='cuda:0'), Initial Std Dev: tensor([5.5381e-03, 3.9134e+00, 2.5860e+02, 1.4331e+01], device='cuda:0')\n"
     ]
    }
   ],
   "source": [
    "# Print initial statistics\n",
    "initial_mean, initial_var, initial_std = compute_statistics(node_features)\n",
    "print(f\"Initial Mean: {initial_mean}, Initial Variance: {initial_var}, Initial Std Dev: {initial_std}\")"
   ]
  },
  {
   "cell_type": "code",
   "execution_count": 11,
   "metadata": {},
   "outputs": [],
   "source": [
    "# Training with early stopping\n",
    "num_epochs = 5\n",
    "target_minority_class = torch.sum(labels == 0)\n",
    "real_data = node_features[labels == 1]"
   ]
  },
  {
   "cell_type": "code",
   "execution_count": 12,
   "metadata": {},
   "outputs": [],
   "source": [
    "# Early stopping parameters\n",
    "best_loss_d = float('inf')\n",
    "patience = 1\n",
    "trigger_times = 0"
   ]
  },
  {
   "cell_type": "code",
   "execution_count": 13,
   "metadata": {},
   "outputs": [],
   "source": [
    "# Parameters\n",
    "batch_size = 16  # Set a smaller batch size\n",
    "latent_size = 100  # Size of the latent vector for the generator\n",
    "num_epochs = 10  # Total number of epochs\n",
    "target_minority_class = 10000  # Target number of minority class samples\n",
    "patience = 10  # Early stopping patience\n",
    "best_loss_d = float('inf')\n",
    "trigger_times = 0"
   ]
  },
  {
   "cell_type": "code",
   "execution_count": 14,
   "metadata": {},
   "outputs": [],
   "source": [
    "# Assuming you want to keep only the first 7506 labels\n",
    "labels = labels[:real_data.size(0)]  # Truncate labels to match real_data size\n",
    "\n",
    "# Create a dataset and DataLoader for real data\n",
    "dataset = TensorDataset(real_data, labels)  # Wrap data in a TensorDataset\n",
    "data_loader = DataLoader(dataset, batch_size=batch_size, shuffle=True)\n"
   ]
  },
  {
   "cell_type": "code",
   "execution_count": 15,
   "metadata": {},
   "outputs": [],
   "source": [
    "import psutil\n",
    "\n",
    "# Function to print memory usage\n",
    "def print_memory_usage():\n",
    "    process = psutil.Process()\n",
    "    memory_info = process.memory_info()\n",
    "    print(f\"Memory usage: {memory_info.rss / (1024 * 1024):.2f} MB\")"
   ]
  },
  {
   "cell_type": "code",
   "execution_count": null,
   "metadata": {},
   "outputs": [
    {
     "name": "stdout",
     "output_type": "stream",
     "text": [
      "Epoch: 0, Current Minority Count: 40\n"
     ]
    }
   ],
   "source": [
    "# Efficient training loop with memory optimizations\n",
    "for epoch in range(num_epochs):\n",
    "    current_minority_count = torch.sum(labels == 1).item()\n",
    "    print(f\"Epoch: {epoch}, Current Minority Count: {current_minority_count}\")\n",
    "    \n",
    "    if current_minority_count >= target_minority_class:\n",
    "        print(\"Target minority class reached, ending training.\")\n",
    "        break\n",
    "    \n",
    "    for real_batch, label_batch in data_loader:\n",
    "        z = torch.randn(real_batch.size(0), latent_size)\n",
    "        \n",
    "        # Memory-efficient forward pass (use detached tensors where possible)\n",
    "        fake_data = generator(z, edge_index, node_features).detach()\n",
    "        \n",
    "        optimizer_d.zero_grad()\n",
    "        d_real = discriminator(real_batch.detach(), edge_index)\n",
    "        d_fake = discriminator(fake_data.detach(), edge_index)\n",
    "        loss_d = -torch.mean(d_real) + torch.mean(d_fake)\n",
    "        loss_d.backward()\n",
    "        optimizer_d.step()\n",
    "\n",
    "        for p in discriminator.parameters():\n",
    "            p.data.clamp_(-0.01, 0.01)\n",
    "\n",
    "        optimizer_g.zero_grad()\n",
    "        fake_data = generator(torch.randn(real_batch.size(0), latent_size), edge_index, node_features.detach())\n",
    "        loss_g = -torch.mean(discriminator(fake_data.detach(), edge_index))\n",
    "        loss_g.backward()\n",
    "        optimizer_g.step()\n",
    "\n",
    "    print_memory_usage()  # After each epoch, check memory usage\n",
    "\n",
    "    torch.cuda.empty_cache()  # Free up GPU memory (if using CUDA)"
   ]
  },
  {
   "cell_type": "code",
   "execution_count": null,
   "metadata": {},
   "outputs": [],
   "source": [
    "# Generate enough samples to match the class distribution\n",
    "num_generated_samples = target_minority_class - current_minority_count\n",
    "generated_data = generator(torch.randn(num_generated_samples, latent_size), edge_index, node_features)\n",
    "y_generated = torch.ones(num_generated_samples, dtype=torch.long)\n",
    "\n",
    "# Combine generated data with the original data\n",
    "x_augmented = torch.cat([node_features, generated_data], dim=0)\n",
    "y_augmented = torch.cat([labels, y_generated], dim=0)"
   ]
  },
  {
   "cell_type": "code",
   "execution_count": null,
   "metadata": {},
   "outputs": [],
   "source": [
    "# Print final statistics\n",
    "final_mean, final_var, final_std = compute_statistics(x_augmented)\n",
    "print(f\"Final Mean: {final_mean}, Final Variance: {final_var}, Final Std Dev: {final_std}\")"
   ]
  },
  {
   "cell_type": "code",
   "execution_count": null,
   "metadata": {},
   "outputs": [],
   "source": [
    "# Graph visualization function\n",
    "import networkx as nx\n",
    "import matplotlib.pyplot as plt"
   ]
  },
  {
   "cell_type": "code",
   "execution_count": null,
   "metadata": {},
   "outputs": [],
   "source": [
    "def plot_graph(node_features, edge_index, labels):\n",
    "    G = nx.DiGraph()\n",
    "    for i in range(node_features.shape[0]):\n",
    "        G.add_node(i, features=node_features[i].detach().numpy(), label=labels[i].item())\n",
    "    for from_node, to_node in edge_index.T:\n",
    "        G.add_edge(from_node.item(), to_node.item())\n",
    "    color_map = ['red' if G.nodes[node]['label'] == 1 else 'blue' for node in G.nodes()]\n",
    "    plt.figure(figsize=(12, 8))\n",
    "    pos = nx.spring_layout(G)\n",
    "    nx.draw(G, pos, with_labels=True, node_color=color_map, node_size=100, font_size=8, font_color='white', alpha=0.8)\n",
    "    plt.title(\"Graph Dataset Visualization\")\n",
    "    plt.show()"
   ]
  },
  {
   "cell_type": "code",
   "execution_count": null,
   "metadata": {},
   "outputs": [],
   "source": [
    "# Call the function with your graph data\n",
    "plot_graph(node_features, edge_index, labels)"
   ]
  }
 ],
 "metadata": {
  "kernelspec": {
   "display_name": "Python3",
   "language": "python",
   "name": "python3"
  },
  "language_info": {
   "codemirror_mode": {
    "name": "ipython",
    "version": 3
   },
   "file_extension": ".py",
   "mimetype": "text/x-python",
   "name": "python",
   "nbconvert_exporter": "python",
   "pygments_lexer": "ipython3",
   "version": "3.6.9"
  }
 },
 "nbformat": 4,
 "nbformat_minor": 2
}
