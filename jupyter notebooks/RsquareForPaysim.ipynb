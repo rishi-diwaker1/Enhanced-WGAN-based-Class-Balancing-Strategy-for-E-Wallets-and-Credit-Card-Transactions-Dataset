{
 "cells": [
  {
   "cell_type": "code",
   "execution_count": 1,
   "metadata": {},
   "outputs": [],
   "source": [
    "# Import required libraries\n",
    "import pandas as pd\n",
    "from imblearn.over_sampling import SMOTE\n",
    "from sklearn.model_selection import train_test_split\n",
    "from sklearn.metrics import f1_score, r2_score\n",
    "import numpy as np\n",
    "import matplotlib.pyplot as plt\n",
    "import seaborn as sns\n",
    "from sklearn.ensemble import RandomForestClassifier"
   ]
  },
  {
   "cell_type": "code",
   "execution_count": 2,
   "metadata": {},
   "outputs": [],
   "source": [
    "csv_file_2 = 'paysim/paysim.csv'"
   ]
  },
  {
   "cell_type": "code",
   "execution_count": 3,
   "metadata": {},
   "outputs": [],
   "source": [
    "# Read the PaySim dataset\n",
    "df2 = pd.read_csv(csv_file_2)"
   ]
  },
  {
   "cell_type": "code",
   "execution_count": 4,
   "metadata": {},
   "outputs": [],
   "source": [
    "# One-hot encode the categorical column ('type') in the PaySim dataset\n",
    "df2 = pd.get_dummies(df2, columns=['type'], drop_first=True)"
   ]
  },
  {
   "cell_type": "code",
   "execution_count": 5,
   "metadata": {},
   "outputs": [],
   "source": [
    "# Exclude the identifier columns ('nameOrig' and 'nameDest') from the PaySim dataset\n",
    "df2 = df2.drop(['nameOrig', 'nameDest'], axis=1)"
   ]
  },
  {
   "cell_type": "code",
   "execution_count": 6,
   "metadata": {},
   "outputs": [],
   "source": [
    "# Function to calculate metrics\n",
    "def calculate_metrics(y_true, y_pred):\n",
    "    f1 = f1_score(y_true, y_pred)\n",
    "    return f1"
   ]
  },
  {
   "cell_type": "code",
   "execution_count": 7,
   "metadata": {},
   "outputs": [],
   "source": [
    "# Function to apply SMOTE and save the resampled dataset\n",
    "def apply_smote_and_save(df, target_column, save_path):\n",
    "    # Separate input features (X) and target labels (y)\n",
    "    X = df.drop(target_column, axis=1)\n",
    "    y = df[target_column]\n",
    "\n",
    "    # Calculate metrics before SMOTE\n",
    "    print(\"\\nMetrics before SMOTE:\")\n",
    "    print(\"Class distribution:\")\n",
    "    print(y.value_counts())\n",
    "    print(\"Mean:\", np.mean(y))\n",
    "    print(\"Variance:\", np.var(y))\n",
    "    print(\"Standard Deviation:\", np.std(y))\n",
    "\n",
    "    # Apply SMOTE\n",
    "    smote = SMOTE(random_state=42)\n",
    "    X_resampled, y_resampled = smote.fit_resample(X, y)\n",
    "\n",
    "    # Combine resampled data into a DataFrame\n",
    "    df_resampled = pd.concat([pd.DataFrame(X_resampled), pd.DataFrame(y_resampled, columns=[target_column])], axis=1)\n",
    "\n",
    "    # Save the resampled dataset to the specified path\n",
    "    df_resampled.to_csv(save_path, index=False)\n",
    "    print(f\"Resampled dataset saved to {save_path}\")\n",
    "\n",
    "    # Calculate metrics after SMOTE\n",
    "    print(\"\\nMetrics after SMOTE:\")\n",
    "    print(\"Class distribution:\")\n",
    "    print(y_resampled.value_counts())\n",
    "    print(\"Mean:\", np.mean(y_resampled))\n",
    "    print(\"Variance:\", np.var(y_resampled))\n",
    "    print(\"Standard Deviation:\", np.std(y_resampled))\n",
    "\n",
    "    # Return the resampled dataframe for inspection\n",
    "    return df_resampled"
   ]
  },
  {
   "cell_type": "code",
   "execution_count": 8,
   "metadata": {},
   "outputs": [
    {
     "name": "stdout",
     "output_type": "stream",
     "text": [
      "\n",
      "Metrics before SMOTE:\n",
      "Class distribution:\n",
      "0    6354407\n",
      "1       8213\n",
      "Name: isFraud, dtype: int64\n",
      "Mean: 0.001290820448180152\n",
      "Variance: 0.0012891542307507113\n",
      "Standard Deviation: 0.03590479398006221\n",
      "Resampled dataset saved to dataset2_resampled.csv\n",
      "\n",
      "Metrics after SMOTE:\n",
      "Class distribution:\n",
      "1    6354407\n",
      "0    6354407\n",
      "Name: isFraud, dtype: int64\n",
      "Mean: 0.5\n",
      "Variance: 0.25\n",
      "Standard Deviation: 0.5\n"
     ]
    }
   ],
   "source": [
    "# Apply SMOTE to PaySim dataset\n",
    "df2_resampled = apply_smote_and_save(df2, 'isFraud', 'dataset2_resampled.csv')"
   ]
  },
  {
   "cell_type": "code",
   "execution_count": 9,
   "metadata": {},
   "outputs": [
    {
     "name": "stdout",
     "output_type": "stream",
     "text": [
      "Class distribution after SMOTE for PaySim dataset:\n",
      "1    6354407\n",
      "0    6354407\n",
      "Name: isFraud, dtype: int64\n"
     ]
    }
   ],
   "source": [
    "# Check the class distribution after SMOTE for the PaySim dataset\n",
    "print(\"Class distribution after SMOTE for PaySim dataset:\")\n",
    "print(df2_resampled['isFraud'].value_counts())"
   ]
  },
  {
   "cell_type": "code",
   "execution_count": 10,
   "metadata": {},
   "outputs": [],
   "source": [
    "# Function to plot bar graph for class distribution with custom labels\n",
    "def plot_class_distribution(df, target_column, title):\n",
    "    sns.set(style=\"whitegrid\")\n",
    "    plt.figure(figsize=(6, 4))\n",
    "\n",
    "    # Plot the bar graph\n",
    "    sns.countplot(x=target_column, data=df, palette=\"viridis\")\n",
    "\n",
    "    # Add titles and labels\n",
    "    plt.title(title)\n",
    "    plt.xlabel('Class')\n",
    "    plt.ylabel('Count')\n",
    "\n",
    "    # Set custom x-axis labels for the classes\n",
    "    plt.xticks([0, 1], ['Non-Fraudulent Class (0)', 'Fraudulent Class (1)'])\n",
    "\n",
    "    # Show the plot\n",
    "    plt.show()"
   ]
  },
  {
   "cell_type": "code",
   "execution_count": 11,
   "metadata": {},
   "outputs": [
    {
     "data": {
      "image/png": "[encoded data removed]",
      "text/plain": [
       "<Figure size 432x288 with 1 Axes>"
      ]
     },
     "metadata": {},
     "output_type": "display_data"
    }
   ],
   "source": [
    "# Plot class distribution for PaySim dataset after SMOTE\n",
    "plot_class_distribution(df2_resampled, 'isFraud', 'Class Distribution after SMOTE for PaySim Dataset')"
   ]
  },
  {
   "cell_type": "code",
   "execution_count": 12,
   "metadata": {},
   "outputs": [],
   "source": [
    "# Function to split the data, train a model, and compute R²\n",
    "def compute_r2_score(df, target_col):\n",
    "    # Separate features and target\n",
    "    X = df.drop(target_col, axis=1)\n",
    "    y = df[target_col]\n",
    "\n",
    "    # Split the data into train and test sets\n",
    "    X_train, X_test, y_train, y_test = train_test_split(X, y, test_size=0.3, random_state=42)\n",
    "\n",
    "    # Initialize a Random Forest Classifier\n",
    "    model = RandomForestClassifier(random_state=42)\n",
    "\n",
    "    # Train the model\n",
    "    model.fit(X_train, y_train)\n",
    "\n",
    "    # Predict on the test set\n",
    "    y_pred = model.predict(X_test)\n",
    "\n",
    "    # Compute the R² score\n",
    "    r2 = r2_score(y_test, y_pred)\n",
    "\n",
    "    return r2"
   ]
  },
  {
   "cell_type": "code",
   "execution_count": 13,
   "metadata": {},
   "outputs": [
    {
     "name": "stdout",
     "output_type": "stream",
     "text": [
      "R² Score for PaySim Dataset after SMOTE:\n",
      "R² Score for PaySim Dataset: 0.9985626776161235\n"
     ]
    }
   ],
   "source": [
    "# Compute R² score for the PaySim dataset (after SMOTE)\n",
    "print(\"R² Score for PaySim Dataset after SMOTE:\")\n",
    "r2_2 = compute_r2_score(df2_resampled, 'isFraud')\n",
    "print(f\"R² Score for PaySim Dataset: {r2_2}\")"
   ]
  }
 ],
 "metadata": {
  "kernelspec": {
   "display_name": "Python3",
   "language": "python",
   "name": "python3"
  },
  "language_info": {
   "codemirror_mode": {
    "name": "ipython",
    "version": 3
   },
   "file_extension": ".py",
   "mimetype": "text/x-python",
   "name": "python",
   "nbconvert_exporter": "python",
   "pygments_lexer": "ipython3",
   "version": "3.6.9"
  }
 },
 "nbformat": 4,
 "nbformat_minor": 2
}
